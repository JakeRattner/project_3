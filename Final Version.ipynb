{
 "cells": [
  {
   "cell_type": "code",
   "execution_count": 4,
   "metadata": {
    "collapsed": true
   },
   "outputs": [],
   "source": [
    "#Bring in an ungodly number of imports, plot size, plot style, inline 'magic'\n",
    "import requests\n",
    "from bs4 import BeautifulSoup\n",
    "import time\n",
    "import pandas as pd\n",
    "from sklearn.tree import DecisionTreeClassifier, DecisionTreeRegressor\n",
    "import sklearn.datasets as datasets\n",
    "import scipy.stats as stats\n",
    "from ipywidgets import *\n",
    "from IPython.display import display\n",
    "import seaborn as sns\n",
    "import matplotlib.pyplot as plt\n",
    "from sklearn.model_selection import cross_val_score, StratifiedKFold\n",
    "from sklearn.ensemble import RandomForestClassifier, ExtraTreesClassifier, BaggingClassifier\n",
    "from sklearn.model_selection import train_test_split\n",
    "from sklearn.preprocessing import LabelEncoder\n",
    "import numpy as np\n",
    "from sklearn.feature_extraction.text import CountVectorizer\n",
    "import string\n",
    "from nltk.corpus import stopwords\n",
    "from nltk.stem import PorterStemmer\n",
    "from sklearn.model_selection import GridSearchCV\n",
    "from sklearn.metrics import classification_report, confusion_matrix, accuracy_score\n",
    "from sklearn.metrics import roc_auc_score\n",
    "from sklearn.metrics import roc_curve, auc\n",
    "\n",
    "plt.rc(\"figure\", figsize=(9, 7))\n",
    "sns.set_style('whitegrid')\n",
    "%matplotlib inline"
   ]
  },
  {
   "cell_type": "code",
   "execution_count": 5,
   "metadata": {},
   "outputs": [
    {
     "name": "stdout",
     "output_type": "stream",
     "text": [
      "200\n"
     ]
    }
   ],
   "source": [
    "# Set the initial url to reddit home, get the response url, include custom user agent\n",
    "# assign reposse tex to variable 'URL', print the status code to make sure we're getting \n",
    "# a 200 response code. add html to bsoup and assign that to variable 'soup'\n",
    "url = \"https://www.reddit.com\"\n",
    "\n",
    "#response = requests.get(url)\n",
    "response = requests.get(url, headers = {'User-agent': 'moose'})\n",
    "html = response.text\n",
    "print(response.status_code)\n",
    "soup = BeautifulSoup(html, 'lxml')"
   ]
  },
  {
   "cell_type": "code",
   "execution_count": 6,
   "metadata": {},
   "outputs": [
    {
     "data": {
      "text/plain": [
       "['https://www.reddit.com/?count=25&after=t3_7zp57u',\n",
       " 'https://www.reddit.com/?count=50&after=t3_7zo7mp',\n",
       " 'https://www.reddit.com/?count=75&after=t3_7zob2r',\n",
       " 'https://www.reddit.com/?count=100&after=t3_7znkul',\n",
       " 'https://www.reddit.com/?count=125&after=t3_7zmz5f',\n",
       " 'https://www.reddit.com/?count=150&after=t3_7znd6d',\n",
       " 'https://www.reddit.com/?count=175&after=t3_7zni9y',\n",
       " 'https://www.reddit.com/?count=200&after=t3_7zp5fz',\n",
       " 'https://www.reddit.com/?count=225&after=t3_7zp0z3',\n",
       " 'https://www.reddit.com/?count=250&after=t3_7zo31m',\n",
       " 'https://www.reddit.com/?count=275&after=t3_7zn75j',\n",
       " 'https://www.reddit.com/?count=300&after=t3_7zo8yl',\n",
       " 'https://www.reddit.com/?count=325&after=t3_7zj4m9',\n",
       " 'https://www.reddit.com/?count=350&after=t3_7znci5',\n",
       " 'https://www.reddit.com/?count=375&after=t3_7znpaf',\n",
       " 'https://www.reddit.com/?count=400&after=t3_7zntcw',\n",
       " 'https://www.reddit.com/?count=425&after=t3_7znfz3',\n",
       " 'https://www.reddit.com/?count=450&after=t3_7znlxv',\n",
       " 'https://www.reddit.com/?count=475&after=t3_7zp3lp',\n",
       " 'https://www.reddit.com/?count=500&after=t3_7znlip',\n",
       " 'https://www.reddit.com/?count=525&after=t3_7zohu6',\n",
       " 'https://www.reddit.com/?count=550&after=t3_7zmzun',\n",
       " 'https://www.reddit.com/?count=575&after=t3_7zo22b',\n",
       " 'https://www.reddit.com/?count=600&after=t3_7znz9g',\n",
       " 'https://www.reddit.com/?count=625&after=t3_7zn6xx',\n",
       " 'https://www.reddit.com/?count=650&after=t3_7znecq',\n",
       " 'https://www.reddit.com/?count=675&after=t3_7zo8yl',\n",
       " 'https://www.reddit.com/?count=700&after=t3_7zl76s',\n",
       " 'https://www.reddit.com/?count=725&after=t3_7zovqe',\n",
       " 'https://www.reddit.com/?count=750&after=t3_7znxnf',\n",
       " 'https://www.reddit.com/?count=775&after=t3_7zn55k',\n",
       " 'https://www.reddit.com/?count=800&after=t3_7zmoo4',\n",
       " 'https://www.reddit.com/?count=825&after=t3_7zlugf',\n",
       " 'https://www.reddit.com/?count=850&after=t3_7zmmuu',\n",
       " 'https://www.reddit.com/?count=875&after=t3_7zoc7o',\n",
       " 'https://www.reddit.com/?count=900&after=t3_7zm3md',\n",
       " 'https://www.reddit.com/?count=925&after=t3_7znxw3',\n",
       " 'https://www.reddit.com/?count=950&after=t3_7zp6ui',\n",
       " 'https://www.reddit.com/?count=975&after=t3_7zjzjj',\n",
       " 'https://www.reddit.com/?count=1000&after=t3_7zo3g7',\n",
       " 'https://www.reddit.com/?count=1025&after=t3_7zoha4',\n",
       " 'https://www.reddit.com/?count=1050&after=t3_7zo253',\n",
       " 'https://www.reddit.com/?count=1075&after=t3_7zo7sd',\n",
       " 'https://www.reddit.com/?count=1100&after=t3_7zmysm',\n",
       " 'https://www.reddit.com/?count=1125&after=t3_7znj7n',\n",
       " 'https://www.reddit.com/?count=1150&after=t3_7zn97l',\n",
       " 'https://www.reddit.com/?count=1175&after=t3_7znqdm',\n",
       " 'https://www.reddit.com/?count=1200&after=t3_7znzo9',\n",
       " 'https://www.reddit.com/?count=1225&after=t3_7zkmy6',\n",
       " 'https://www.reddit.com/?count=1250&after=t3_7zo9ag']"
      ]
     },
     "execution_count": 6,
     "metadata": {},
     "output_type": "execute_result"
    }
   ],
   "source": [
    "urls = []\n",
    "count = 0\n",
    "while (count < 50):\n",
    "    # This will loop for # in while arg, its finds the text in the 'next' button, strips\n",
    "    # out the part after 'after =', iterates url_count by 25 and appends both ot text creating\n",
    "    # the 'next' urls.  Then theat next url is fed back into beautiful soup\n",
    "    result_list = soup.body.find('span', {'class':'next-button'})\n",
    "    next_url = result_list.find('a')['href']\n",
    "\n",
    "    after = str(next_url.split('after=')[1])\n",
    "    url_count = str(25*(1+count))\n",
    "    next_url = \"https://www.reddit.com/?count=\" + url_count + \"&after=\" + after\n",
    "    \n",
    "    count = count + 1\n",
    "    urls.append(next_url)\n",
    "    \n",
    "    response = requests.get(next_url, headers = {'User-agent': 'moose'})\n",
    "    html = response.text\n",
    "    soup = BeautifulSoup(html, 'lxml')\n",
    "\n",
    "urls"
   ]
  },
  {
   "cell_type": "code",
   "execution_count": 7,
   "metadata": {},
   "outputs": [
    {
     "data": {
      "text/plain": [
       "['https://www.reddit.com',\n",
       " 'https://www.reddit.com/?count=25&after=t3_7zp57u',\n",
       " 'https://www.reddit.com/?count=50&after=t3_7zo7mp',\n",
       " 'https://www.reddit.com/?count=75&after=t3_7zob2r',\n",
       " 'https://www.reddit.com/?count=100&after=t3_7znkul',\n",
       " 'https://www.reddit.com/?count=125&after=t3_7zmz5f',\n",
       " 'https://www.reddit.com/?count=150&after=t3_7znd6d',\n",
       " 'https://www.reddit.com/?count=175&after=t3_7zni9y',\n",
       " 'https://www.reddit.com/?count=200&after=t3_7zp5fz',\n",
       " 'https://www.reddit.com/?count=225&after=t3_7zp0z3',\n",
       " 'https://www.reddit.com/?count=250&after=t3_7zo31m',\n",
       " 'https://www.reddit.com/?count=275&after=t3_7zn75j',\n",
       " 'https://www.reddit.com/?count=300&after=t3_7zo8yl',\n",
       " 'https://www.reddit.com/?count=325&after=t3_7zj4m9',\n",
       " 'https://www.reddit.com/?count=350&after=t3_7znci5',\n",
       " 'https://www.reddit.com/?count=375&after=t3_7znpaf',\n",
       " 'https://www.reddit.com/?count=400&after=t3_7zntcw',\n",
       " 'https://www.reddit.com/?count=425&after=t3_7znfz3',\n",
       " 'https://www.reddit.com/?count=450&after=t3_7znlxv',\n",
       " 'https://www.reddit.com/?count=475&after=t3_7zp3lp',\n",
       " 'https://www.reddit.com/?count=500&after=t3_7znlip',\n",
       " 'https://www.reddit.com/?count=525&after=t3_7zohu6',\n",
       " 'https://www.reddit.com/?count=550&after=t3_7zmzun',\n",
       " 'https://www.reddit.com/?count=575&after=t3_7zo22b',\n",
       " 'https://www.reddit.com/?count=600&after=t3_7znz9g',\n",
       " 'https://www.reddit.com/?count=625&after=t3_7zn6xx',\n",
       " 'https://www.reddit.com/?count=650&after=t3_7znecq',\n",
       " 'https://www.reddit.com/?count=675&after=t3_7zo8yl',\n",
       " 'https://www.reddit.com/?count=700&after=t3_7zl76s',\n",
       " 'https://www.reddit.com/?count=725&after=t3_7zovqe',\n",
       " 'https://www.reddit.com/?count=750&after=t3_7znxnf',\n",
       " 'https://www.reddit.com/?count=775&after=t3_7zn55k',\n",
       " 'https://www.reddit.com/?count=800&after=t3_7zmoo4',\n",
       " 'https://www.reddit.com/?count=825&after=t3_7zlugf',\n",
       " 'https://www.reddit.com/?count=850&after=t3_7zmmuu',\n",
       " 'https://www.reddit.com/?count=875&after=t3_7zoc7o',\n",
       " 'https://www.reddit.com/?count=900&after=t3_7zm3md',\n",
       " 'https://www.reddit.com/?count=925&after=t3_7znxw3',\n",
       " 'https://www.reddit.com/?count=950&after=t3_7zp6ui',\n",
       " 'https://www.reddit.com/?count=975&after=t3_7zjzjj',\n",
       " 'https://www.reddit.com/?count=1000&after=t3_7zo3g7',\n",
       " 'https://www.reddit.com/?count=1025&after=t3_7zoha4',\n",
       " 'https://www.reddit.com/?count=1050&after=t3_7zo253',\n",
       " 'https://www.reddit.com/?count=1075&after=t3_7zo7sd',\n",
       " 'https://www.reddit.com/?count=1100&after=t3_7zmysm',\n",
       " 'https://www.reddit.com/?count=1125&after=t3_7znj7n',\n",
       " 'https://www.reddit.com/?count=1150&after=t3_7zn97l',\n",
       " 'https://www.reddit.com/?count=1175&after=t3_7znqdm',\n",
       " 'https://www.reddit.com/?count=1200&after=t3_7znzo9',\n",
       " 'https://www.reddit.com/?count=1225&after=t3_7zkmy6',\n",
       " 'https://www.reddit.com/?count=1250&after=t3_7zo9ag']"
      ]
     },
     "execution_count": 7,
     "metadata": {},
     "output_type": "execute_result"
    }
   ],
   "source": [
    "# homepage if inseted into the begining of the list\n",
    "urls.insert(0,'https://www.reddit.com')\n",
    "urls"
   ]
  },
  {
   "cell_type": "code",
   "execution_count": 69,
   "metadata": {
    "collapsed": true
   },
   "outputs": [],
   "source": [
    "# function to be used later.  Generates subreddits\n",
    "def get_subs(stuff):\n",
    "    for element in stuff:\n",
    "        try:\n",
    "            subs.append(element.text)\n",
    "        except:\n",
    "            subs.append('NULL')\n",
    "    return subs "
   ]
  },
  {
   "cell_type": "code",
   "execution_count": 9,
   "metadata": {
    "collapsed": true
   },
   "outputs": [],
   "source": [
    "# function to be used later.  Generates post titles\n",
    "def get_titles(stuff):\n",
    "    for element in stuff:\n",
    "        try:\n",
    "            titles.append(element.text)\n",
    "        except:\n",
    "            titles.append('NULL')\n",
    "    return titles  "
   ]
  },
  {
   "cell_type": "code",
   "execution_count": 10,
   "metadata": {
    "collapsed": true
   },
   "outputs": [],
   "source": [
    "# function to be used later.  Generates comments\n",
    "def get_comms(stuff):\n",
    "    for element in stuff:\n",
    "        try:\n",
    "            comms.append(element.text)\n",
    "        except:\n",
    "            comms.append('NULL')\n",
    "    return comms  "
   ]
  },
  {
   "cell_type": "code",
   "execution_count": 11,
   "metadata": {
    "collapsed": true
   },
   "outputs": [],
   "source": [
    "# function to be used later.  Generates post times\n",
    "def get_times(stuff):\n",
    "    for element in stuff:\n",
    "        try:\n",
    "            times.append(element.text)\n",
    "        except:\n",
    "            times.append('NULL')\n",
    "    return times "
   ]
  },
  {
   "cell_type": "code",
   "execution_count": 12,
   "metadata": {},
   "outputs": [
    {
     "name": "stdout",
     "output_type": "stream",
     "text": [
      "1\n",
      "2\n",
      "3\n",
      "4\n",
      "5\n",
      "6\n",
      "7\n",
      "8\n",
      "9\n",
      "10\n",
      "11\n",
      "12\n",
      "13\n",
      "14\n",
      "15\n",
      "16\n",
      "17\n",
      "18\n",
      "19\n",
      "20\n",
      "21\n",
      "22\n",
      "23\n",
      "24\n",
      "25\n",
      "26\n",
      "27\n",
      "28\n",
      "29\n",
      "30\n",
      "31\n",
      "32\n",
      "33\n",
      "34\n",
      "35\n",
      "36\n",
      "37\n",
      "38\n",
      "39\n",
      "40\n",
      "41\n",
      "42\n",
      "43\n",
      "44\n",
      "45\n",
      "46\n",
      "47\n",
      "48\n",
      "49\n",
      "50\n",
      "51\n"
     ]
    }
   ],
   "source": [
    "# This loop creates 4 lists.  For each i in urls (generated prevously) the previously created\n",
    "# functions are called and that page's information is extracted.  At the bottom of the look \n",
    "# I keep updating bsoup with a new url\n",
    "titles = []\n",
    "subs = []\n",
    "comms = []\n",
    "times = []\n",
    "count = 0\n",
    "\n",
    "for i in urls:\n",
    "    response = requests.get(i, headers = {'User-agent': 'moose'})\n",
    "    html = response.text\n",
    "    soup = BeautifulSoup(html, 'lxml')\n",
    "    \n",
    "    #call functions\n",
    "    all_td = soup.find_all('a',{\"data-event-action\": \"title\"}) \n",
    "    get_titles(all_td)\n",
    "    all_subs = soup.find_all('a',{'class': 'subreddit hover may-blank'})\n",
    "    get_subs(all_subs)\n",
    "    all_comms = soup.find_all('a',{\"data-event-action\": 'comments'})\n",
    "    get_comms(all_comms)\n",
    "    all_times = soup.find_all('time',{'class': 'live-timestamp'})\n",
    "    get_times(all_times)\n",
    "    \n",
    "    #reset soup for new link\n",
    "    response = requests.get(i, headers = {'User-agent': 'moose'})\n",
    "    html = response.text\n",
    "    soup = BeautifulSoup(html, 'lxml')\n",
    "    time.sleep(2)\n",
    "    count = count + 1\n",
    "    print (count)"
   ]
  },
  {
   "cell_type": "code",
   "execution_count": 1051,
   "metadata": {
    "collapsed": true
   },
   "outputs": [],
   "source": [
    "# Turn lists from above function into dataframe and set headers\n",
    "r_posts = pd.DataFrame({'Title':titles,'Comments':comms,'Time': times, 'subreddit':subs})\n",
    "r_posts = r_posts[['Title', 'Comments','Time','subreddit' ]]"
   ]
  },
  {
   "cell_type": "code",
   "execution_count": 1052,
   "metadata": {
    "scrolled": true
   },
   "outputs": [
    {
     "data": {
      "text/plain": [
       "0"
      ]
     },
     "execution_count": 1052,
     "metadata": {},
     "output_type": "execute_result"
    }
   ],
   "source": [
    "# Remove nulls (none in this case, but there were some empty comments previously)\n",
    "r_posts['Comments'].dropna(axis=0, how='any')\n",
    "r_posts['Comments'].isnull().sum()"
   ]
  },
  {
   "cell_type": "code",
   "execution_count": null,
   "metadata": {
    "collapsed": true
   },
   "outputs": [],
   "source": [
    "# Previously did EDA using .shape, .describe. .dtypes .value_counts \n",
    "# on the df and individual series"
   ]
  },
  {
   "cell_type": "markdown",
   "metadata": {
    "focus": false,
    "id": "43e71edd-210e-42b1-9336-70a931f048af"
   },
   "source": [
    "### Save your results as a CSV\n",
    "You may do this regularly while scraping data as well, so that if your scraper stops of your computer crashes, you don't lose all your data."
   ]
  },
  {
   "cell_type": "code",
   "execution_count": 1055,
   "metadata": {
    "collapsed": true
   },
   "outputs": [],
   "source": [
    "# Save the csv to computer in case any madness occurs and the data is lost\n",
    "path = '\\jakerattner\\documents\\project-3\\data.csv'\n",
    "r_posts.to_csv(path, encoding='utf-8')"
   ]
  },
  {
   "cell_type": "code",
   "execution_count": 1056,
   "metadata": {
    "collapsed": true
   },
   "outputs": [],
   "source": [
    "# There is some data cleaning here.  I couldn't quite get comments clean\n",
    "r_posts['Comments'] = r_posts['Comments'].str.replace(' comments','')\n",
    "r_posts['Comments'] = r_posts['Comments'].str.replace('comment','')\n",
    "r_posts['Comments'] = r_posts['Comments'].str.replace(' ','')\n",
    "r_posts['Time'] = r_posts['Time'].str.replace(' hours ago','')\n",
    "r_posts['Time'] = r_posts['Time'].str.replace(' minutes ago','')"
   ]
  },
  {
   "cell_type": "code",
   "execution_count": 1057,
   "metadata": {},
   "outputs": [
    {
     "data": {
      "text/html": [
       "<div>\n",
       "<style>\n",
       "    .dataframe thead tr:only-child th {\n",
       "        text-align: right;\n",
       "    }\n",
       "\n",
       "    .dataframe thead th {\n",
       "        text-align: left;\n",
       "    }\n",
       "\n",
       "    .dataframe tbody tr th {\n",
       "        vertical-align: top;\n",
       "    }\n",
       "</style>\n",
       "<table border=\"1\" class=\"dataframe\">\n",
       "  <thead>\n",
       "    <tr style=\"text-align: right;\">\n",
       "      <th></th>\n",
       "      <th>Title</th>\n",
       "      <th>Comments</th>\n",
       "      <th>Time</th>\n",
       "      <th>subreddit</th>\n",
       "    </tr>\n",
       "  </thead>\n",
       "  <tbody>\n",
       "    <tr>\n",
       "      <th>0</th>\n",
       "      <td>Change My Mind</td>\n",
       "      <td>2273.0</td>\n",
       "      <td>2</td>\n",
       "      <td>r/funny</td>\n",
       "    </tr>\n",
       "    <tr>\n",
       "      <th>1</th>\n",
       "      <td>Immunity dog</td>\n",
       "      <td>183.0</td>\n",
       "      <td>3</td>\n",
       "      <td>r/wholesomememes</td>\n",
       "    </tr>\n",
       "    <tr>\n",
       "      <th>2</th>\n",
       "      <td>Violent video games actually reduces violence ...</td>\n",
       "      <td>1986.0</td>\n",
       "      <td>3</td>\n",
       "      <td>r/gaming</td>\n",
       "    </tr>\n",
       "    <tr>\n",
       "      <th>3</th>\n",
       "      <td>Scranton, WHAT?: The Claymation City</td>\n",
       "      <td>152.0</td>\n",
       "      <td>4</td>\n",
       "      <td>r/DunderMifflin</td>\n",
       "    </tr>\n",
       "    <tr>\n",
       "      <th>4</th>\n",
       "      <td>TIL Harriet Tubman, in addition to organizing ...</td>\n",
       "      <td>431.0</td>\n",
       "      <td>5</td>\n",
       "      <td>r/todayilearned</td>\n",
       "    </tr>\n",
       "  </tbody>\n",
       "</table>\n",
       "</div>"
      ],
      "text/plain": [
       "                                               Title  Comments Time  \\\n",
       "0                                     Change My Mind    2273.0    2   \n",
       "1                                       Immunity dog     183.0    3   \n",
       "2  Violent video games actually reduces violence ...    1986.0    3   \n",
       "3               Scranton, WHAT?: The Claymation City     152.0    4   \n",
       "4  TIL Harriet Tubman, in addition to organizing ...     431.0    5   \n",
       "\n",
       "          subreddit  \n",
       "0           r/funny  \n",
       "1  r/wholesomememes  \n",
       "2          r/gaming  \n",
       "3   r/DunderMifflin  \n",
       "4   r/todayilearned  "
      ]
     },
     "execution_count": 1057,
     "metadata": {},
     "output_type": "execute_result"
    }
   ],
   "source": [
    "# This is ultimately what I used to clean up comments.  It turned them into floats\n",
    "r_posts['Comments'] = pd.to_numeric(r_posts['Comments'], errors='coerce')\n",
    "r_posts.head()"
   ]
  },
  {
   "cell_type": "code",
   "execution_count": 1058,
   "metadata": {},
   "outputs": [
    {
     "data": {
      "text/plain": [
       "dtype('float64')"
      ]
     },
     "execution_count": 1058,
     "metadata": {},
     "output_type": "execute_result"
    }
   ],
   "source": [
    "r_posts['Comments'].dtypes"
   ]
  },
  {
   "cell_type": "code",
   "execution_count": 1059,
   "metadata": {},
   "outputs": [
    {
     "data": {
      "text/plain": [
       "86.0"
      ]
     },
     "execution_count": 1059,
     "metadata": {},
     "output_type": "execute_result"
    }
   ],
   "source": [
    "# Just taking a look because I'm using it as a way to make new binary column\n",
    "r_posts['Comments'].median()"
   ]
  },
  {
   "cell_type": "code",
   "execution_count": 1060,
   "metadata": {
    "collapsed": true
   },
   "outputs": [],
   "source": [
    "# Creates a new binary variable based on whether the comments are above or below the median\n",
    "r_posts['high_low'] = np.where(r_posts['Comments']>=r_posts['Comments'].median(), \"1\", \"0\")"
   ]
  },
  {
   "cell_type": "code",
   "execution_count": 1062,
   "metadata": {
    "collapsed": true
   },
   "outputs": [],
   "source": [
    "#function to remove and punctuation from the text entered\n",
    "def remove_punctuation(text):\n",
    "    lower = text.lower()   #makes all text lowercase\n",
    "    exclude = set(string.punctuation)    #can tell it to exclude punctuation marks. See above library link\n",
    "    return \"\".join(ch for ch in lower if ch not in exclude)  #will return the string of text if the character for each character in lower and is not in the excluded puncuation"
   ]
  },
  {
   "cell_type": "code",
   "execution_count": 1063,
   "metadata": {
    "collapsed": true
   },
   "outputs": [],
   "source": [
    "# remove punctuation from the title series with the remove_punctuation function\n",
    "r_posts['Title'] = r_posts['Title'].apply(remove_punctuation)"
   ]
  },
  {
   "cell_type": "code",
   "execution_count": 1064,
   "metadata": {
    "collapsed": true
   },
   "outputs": [],
   "source": [
    "# Stemming function is used to simplify the text to its more basic root\n",
    "stemmer = PorterStemmer()\n",
    "def stems(string):\n",
    "    string = string.split(' ')\n",
    "    temp = \"\"\n",
    "    for i in string:\n",
    "        temp += (stemmer.stem(i) + \" \")\n",
    "    return temp"
   ]
  },
  {
   "cell_type": "code",
   "execution_count": 1065,
   "metadata": {
    "collapsed": true
   },
   "outputs": [],
   "source": [
    "# Stem function applied to titles\n",
    "r_posts['Title'] = r_posts['Title'].apply(stems)"
   ]
  },
  {
   "cell_type": "code",
   "execution_count": 1066,
   "metadata": {
    "collapsed": true
   },
   "outputs": [],
   "source": [
    "# Change type of new column\n",
    "r_posts['high_low'] = r_posts['high_low'].astype(int)"
   ]
  },
  {
   "cell_type": "markdown",
   "metadata": {},
   "source": [
    "- Create a few new variables in your dataframe to represent interesting features of a thread title.\n",
    "- For example, create a feature that represents whether 'cat' is in the title or whether 'funny' is in the title.\n",
    "- Then build a new Random Forest with these features. Do they add any value?\n",
    "- After creating these variables, use count-vectorizer to create features based on the words in the thread titles.\n",
    "- Build a new random forest model with subreddit and these new features included."
   ]
  },
  {
   "cell_type": "markdown",
   "metadata": {},
   "source": [
    "# Creating a RandomForest with Subreddit"
   ]
  },
  {
   "cell_type": "code",
   "execution_count": 1067,
   "metadata": {
    "collapsed": true
   },
   "outputs": [],
   "source": [
    "# assign high/low to dep and subreddit to indep, instantiate countvectorizer with englist as stop\n",
    "# fit and transform, set x to dense to binary and finally train test split 30%\n",
    "# \n",
    "y = r_posts['high_low']\n",
    "X = r_posts['subreddit']\n",
    "\n",
    "cvec = CountVectorizer(stop_words = 'english') \n",
    "\n",
    "X  = pd.DataFrame(cvec.fit_transform(X).todense(),\n",
    "             columns=cvec.get_feature_names())\n",
    "\n",
    "X_train, X_test, y_train, y_test = train_test_split(X, y, test_size = 0.3)"
   ]
  },
  {
   "cell_type": "code",
   "execution_count": 1068,
   "metadata": {},
   "outputs": [
    {
     "data": {
      "text/plain": [
       "RandomForestClassifier(bootstrap=True, class_weight=None, criterion='gini',\n",
       "            max_depth=None, max_features='auto', max_leaf_nodes=None,\n",
       "            min_impurity_decrease=0.0, min_impurity_split=None,\n",
       "            min_samples_leaf=1, min_samples_split=2,\n",
       "            min_weight_fraction_leaf=0.0, n_estimators=10, n_jobs=2,\n",
       "            oob_score=False, random_state=0, verbose=0, warm_start=False)"
      ]
     },
     "execution_count": 1068,
     "metadata": {},
     "output_type": "execute_result"
    }
   ],
   "source": [
    "# instantiate, fit with training data\n",
    "clf = RandomForestClassifier(n_jobs=2, random_state=0)\n",
    "clf.fit(X_train, y_train)"
   ]
  },
  {
   "cell_type": "code",
   "execution_count": 1069,
   "metadata": {},
   "outputs": [
    {
     "data": {
      "text/plain": [
       "0.88677130044843044"
      ]
     },
     "execution_count": 1069,
     "metadata": {},
     "output_type": "execute_result"
    }
   ],
   "source": [
    "# train score\n",
    "clf.score(X_train, y_train)"
   ]
  },
  {
   "cell_type": "code",
   "execution_count": 1070,
   "metadata": {},
   "outputs": [
    {
     "data": {
      "text/plain": [
       "0.83289817232375984"
      ]
     },
     "execution_count": 1070,
     "metadata": {},
     "output_type": "execute_result"
    }
   ],
   "source": [
    "# test score\n",
    "clf.score(X_test, y_test)"
   ]
  },
  {
   "cell_type": "code",
   "execution_count": 1071,
   "metadata": {},
   "outputs": [
    {
     "data": {
      "text/plain": [
       "0.49869451697127937"
      ]
     },
     "execution_count": 1071,
     "metadata": {},
     "output_type": "execute_result"
    }
   ],
   "source": [
    "#predictive baseline\n",
    "base_score = np.mean(y_test)\n",
    "base_score"
   ]
  },
  {
   "cell_type": "code",
   "execution_count": 1072,
   "metadata": {},
   "outputs": [
    {
     "data": {
      "text/plain": [
       "array([0, 1, 1, 0, 0, 0, 1, 0, 0, 1, 0, 0, 0, 1, 0, 1, 1, 0, 1, 1, 1, 1, 1,\n",
       "       0, 1, 1, 0, 1, 1, 0, 0, 0, 0, 1, 1, 0, 1, 1, 0, 1, 1, 1, 0, 0, 1, 0,\n",
       "       0, 1, 1, 0, 1, 1, 1, 0, 0, 0, 0, 0, 1, 0, 0, 1, 1, 1, 1, 0, 0, 1, 1,\n",
       "       1, 1, 1, 0, 0, 1, 1, 0, 0, 1, 1, 1, 0, 1, 1, 0, 1, 0, 1, 0, 0, 0, 1,\n",
       "       0, 0, 0, 0, 0, 1, 1, 1, 0, 0, 0, 0, 0, 0, 0, 0, 1, 0, 0, 1, 1, 1, 1,\n",
       "       1, 0, 0, 1, 1, 1, 1, 1, 1, 0, 0, 1, 0, 0, 0, 0, 1, 1, 0, 0, 1, 1, 0,\n",
       "       1, 1, 1, 0, 1, 0, 0, 0, 0, 0, 0, 1, 0, 0, 0, 1, 1, 0, 0, 1, 0, 0, 1,\n",
       "       0, 1, 0, 0, 0, 0, 0, 0, 1, 0, 1, 0, 1, 0, 0, 1, 0, 1, 0, 0, 1, 1, 0,\n",
       "       0, 0, 1, 0, 1, 0, 0, 0, 0, 0, 1, 1, 0, 0, 0, 0, 0, 0, 0, 1, 0, 0, 0,\n",
       "       0, 1, 0, 0, 1, 0, 0, 0, 1, 0, 0, 0, 1, 1, 0, 0, 1, 1, 1, 1, 1, 1, 0,\n",
       "       1, 0, 1, 0, 1, 0, 1, 0, 1, 0, 1, 0, 0, 0, 1, 0, 1, 1, 0, 1, 1, 1, 0,\n",
       "       0, 1, 1, 1, 1, 0, 1, 0, 0, 0, 0, 1, 1, 0, 0, 1, 1, 1, 0, 1, 0, 0, 1,\n",
       "       0, 1, 1, 0, 0, 1, 1, 1, 1, 0, 0, 1, 0, 1, 1, 1, 1, 1, 1, 1, 1, 0, 1,\n",
       "       0, 0, 1, 0, 1, 0, 1, 1, 1, 1, 0, 1, 0, 1, 0, 0, 1, 0, 1, 0, 1, 1, 0,\n",
       "       0, 0, 0, 1, 0, 0, 0, 0, 0, 0, 0, 0, 0, 0, 1, 0, 0, 1, 1, 0, 1, 0, 1,\n",
       "       0, 1, 1, 1, 0, 0, 0, 1, 1, 0, 0, 0, 1, 0, 0, 0, 0, 1, 1, 0, 0, 1, 1,\n",
       "       0, 0, 1, 1, 0, 0, 1, 1, 0, 1, 1, 0, 1, 0, 0])"
      ]
     },
     "execution_count": 1072,
     "metadata": {},
     "output_type": "execute_result"
    }
   ],
   "source": [
    "# make/print predictions\n",
    "predictions = clf.predict(X_test)  # we need to get our models predictions based on the x_test data\n",
    "predictions"
   ]
  },
  {
   "cell_type": "code",
   "execution_count": 1073,
   "metadata": {},
   "outputs": [
    {
     "data": {
      "text/plain": [
       "383"
      ]
     },
     "execution_count": 1073,
     "metadata": {},
     "output_type": "execute_result"
    }
   ],
   "source": [
    "len(predictions)"
   ]
  },
  {
   "cell_type": "code",
   "execution_count": 1074,
   "metadata": {
    "collapsed": true
   },
   "outputs": [],
   "source": [
    "# create dataframe of matrix and add to variable conmat\n",
    "conmat = pd.DataFrame(confusion_matrix(y_test, predictions), \n",
    "                                              columns=['predicted_High(1)', 'predicted_low(0)'], index=['is_High(1)', 'is_Low(0)'])"
   ]
  },
  {
   "cell_type": "code",
   "execution_count": 1075,
   "metadata": {},
   "outputs": [
    {
     "data": {
      "text/html": [
       "<div>\n",
       "<style>\n",
       "    .dataframe thead tr:only-child th {\n",
       "        text-align: right;\n",
       "    }\n",
       "\n",
       "    .dataframe thead th {\n",
       "        text-align: left;\n",
       "    }\n",
       "\n",
       "    .dataframe tbody tr th {\n",
       "        vertical-align: top;\n",
       "    }\n",
       "</style>\n",
       "<table border=\"1\" class=\"dataframe\">\n",
       "  <thead>\n",
       "    <tr style=\"text-align: right;\">\n",
       "      <th></th>\n",
       "      <th>predicted_High(1)</th>\n",
       "      <th>predicted_low(0)</th>\n",
       "    </tr>\n",
       "  </thead>\n",
       "  <tbody>\n",
       "    <tr>\n",
       "      <th>is_High(1)</th>\n",
       "      <td>167</td>\n",
       "      <td>25</td>\n",
       "    </tr>\n",
       "    <tr>\n",
       "      <th>is_Low(0)</th>\n",
       "      <td>39</td>\n",
       "      <td>152</td>\n",
       "    </tr>\n",
       "  </tbody>\n",
       "</table>\n",
       "</div>"
      ],
      "text/plain": [
       "            predicted_High(1)  predicted_low(0)\n",
       "is_High(1)                167                25\n",
       "is_Low(0)                  39               152"
      ]
     },
     "execution_count": 1075,
     "metadata": {},
     "output_type": "execute_result"
    }
   ],
   "source": [
    "conmat"
   ]
  },
  {
   "cell_type": "code",
   "execution_count": 1076,
   "metadata": {},
   "outputs": [
    {
     "name": "stdout",
     "output_type": "stream",
     "text": [
      "\n",
      "Classification Report:\n",
      "              precision    recall  f1-score   support\n",
      "\n",
      "          0       0.81      0.87      0.84       192\n",
      "          1       0.86      0.80      0.83       191\n",
      "\n",
      "avg / total       0.83      0.83      0.83       383\n",
      "\n"
     ]
    }
   ],
   "source": [
    "print(\"\\nClassification Report:\\n\",classification_report(y_test, predictions))\n",
    "# recall is sensetivity, shows confusion matrix scoring"
   ]
  },
  {
   "cell_type": "code",
   "execution_count": 1077,
   "metadata": {},
   "outputs": [
    {
     "data": {
      "text/plain": [
       "array([ 0.23508264,  1.        ,  0.66355241,  0.3       ,  0.        ,\n",
       "        0.        ,  0.705     ,  0.1       ,  0.42723242,  0.705     ,\n",
       "        0.1       ,  0.        ,  0.23508264,  0.8       ,  0.4684384 ,\n",
       "        1.        ,  0.75940476,  0.4       ,  0.82142857,  0.8       ,\n",
       "        1.        ,  1.        ,  0.8       ,  0.4       ,  0.8       ,\n",
       "        0.9       ,  0.        ,  1.        ,  1.        ,  0.1       ,\n",
       "        0.4       ,  0.23508264,  0.35460317,  0.9       ,  0.69359933,\n",
       "        0.3       ,  0.57666667,  0.66355241,  0.3       ,  1.        ,\n",
       "        1.        ,  0.66355241,  0.4       ,  0.4       ,  1.        ,\n",
       "        0.        ,  0.1       ,  1.        ,  1.        ,  0.4       ,\n",
       "        0.53952381,  1.        ,  0.53952381,  0.4       ,  0.4       ,\n",
       "        0.1       ,  0.1       ,  0.2       ,  0.6       ,  0.25335942,\n",
       "        0.23508264,  1.        ,  0.9       ,  1.        ,  0.57666667,\n",
       "        0.4       ,  0.30916667,  0.9       ,  1.        ,  0.69359933,\n",
       "        1.        ,  0.8       ,  0.        ,  0.42723242,  1.        ,\n",
       "        1.        ,  0.        ,  0.29964258,  1.        ,  0.8       ,\n",
       "        0.66355241,  0.2       ,  0.75940476,  0.9       ,  0.23508264,\n",
       "        1.        ,  0.        ,  0.8       ,  0.1       ,  0.17887057,\n",
       "        0.42723242,  0.9       ,  0.2       ,  0.30916667,  0.30214286,\n",
       "        0.4       ,  0.        ,  0.9       ,  1.        ,  0.8       ,\n",
       "        0.4       ,  0.4775    ,  0.4       ,  0.1       ,  0.4684384 ,\n",
       "        0.4684384 ,  0.1       ,  0.        ,  0.97777778,  0.25335942,\n",
       "        0.23508264,  0.7       ,  0.8       ,  1.        ,  0.9       ,\n",
       "        0.8       ,  0.        ,  0.4775    ,  1.        ,  0.53952381,\n",
       "        1.        ,  1.        ,  1.        ,  0.82142857,  0.29964258,\n",
       "        0.4       ,  0.8       ,  0.1       ,  0.        ,  0.2       ,\n",
       "        0.        ,  0.65396825,  1.        ,  0.3       ,  0.        ,\n",
       "        0.57666667,  0.65396825,  0.        ,  0.67085165,  1.        ,\n",
       "        0.8       ,  0.42723242,  1.        ,  0.23508264,  0.42723242,\n",
       "        0.1       ,  0.4       ,  0.4       ,  0.17887057,  0.7       ,\n",
       "        0.4       ,  0.        ,  0.49071429,  1.        ,  1.        ,\n",
       "        0.        ,  0.        ,  0.75940476,  0.        ,  0.        ,\n",
       "        1.        ,  0.23508264,  1.        ,  0.30916667,  0.        ,\n",
       "        0.        ,  0.        ,  0.1       ,  0.30214286,  0.9       ,\n",
       "        0.1       ,  0.9       ,  0.4       ,  0.6       ,  0.1       ,\n",
       "        0.1       ,  0.7       ,  0.1       ,  0.8       ,  0.2       ,\n",
       "        0.2       ,  0.9       ,  1.        ,  0.        ,  0.18887779,\n",
       "        0.        ,  0.9       ,  0.1       ,  1.        ,  0.4       ,\n",
       "        0.1       ,  0.1       ,  0.        ,  0.4       ,  1.        ,\n",
       "        0.67085165,  0.        ,  0.23508264,  0.        ,  0.        ,\n",
       "        0.4775    ,  0.29964258,  0.1       ,  1.        ,  0.4       ,\n",
       "        0.4775    ,  0.1       ,  0.        ,  1.        ,  0.23508264,\n",
       "        0.23508264,  1.        ,  0.23508264,  0.3       ,  0.42723242,\n",
       "        0.8       ,  0.49071429,  0.        ,  0.18887779,  1.        ,\n",
       "        0.66355241,  0.        ,  0.        ,  0.75940476,  1.        ,\n",
       "        1.        ,  1.        ,  1.        ,  1.        ,  0.42723242,\n",
       "        0.83047619,  0.42723242,  0.9       ,  0.17887057,  0.8       ,\n",
       "        0.4       ,  1.        ,  0.41333333,  0.7       ,  0.3       ,\n",
       "        0.9       ,  0.23508264,  0.17887057,  0.29166667,  0.9       ,\n",
       "        0.2       ,  0.97777778,  0.9       ,  0.1       ,  0.8       ,\n",
       "        0.7       ,  0.82142857,  0.42723242,  0.2       ,  0.9       ,\n",
       "        0.69359933,  1.        ,  0.9       ,  0.18887779,  0.69359933,\n",
       "        0.42723242,  0.23508264,  0.4       ,  0.1       ,  0.9       ,\n",
       "        1.        ,  0.25335942,  0.        ,  0.53952381,  0.6       ,\n",
       "        0.9       ,  0.3       ,  1.        ,  0.        ,  0.4       ,\n",
       "        0.67085165,  0.4       ,  0.6       ,  1.        ,  0.42723242,\n",
       "        0.17887057,  1.        ,  1.        ,  0.9       ,  1.        ,\n",
       "        0.        ,  0.4       ,  1.        ,  0.3       ,  1.        ,\n",
       "        0.67085165,  1.        ,  1.        ,  0.8       ,  0.8       ,\n",
       "        0.8       ,  0.75940476,  0.4       ,  0.7       ,  0.18887779,\n",
       "        0.2       ,  0.7       ,  0.2       ,  0.7       ,  0.23508264,\n",
       "        1.        ,  0.97777778,  1.        ,  0.66607143,  0.        ,\n",
       "        1.        ,  0.23508264,  0.69359933,  0.        ,  0.4       ,\n",
       "        0.83047619,  0.4       ,  1.        ,  0.        ,  0.66355241,\n",
       "        0.57666667,  0.4       ,  0.        ,  0.        ,  0.4       ,\n",
       "        1.        ,  0.1       ,  0.        ,  0.4684384 ,  0.        ,\n",
       "        0.        ,  0.4684384 ,  0.4       ,  0.        ,  0.        ,\n",
       "        0.4       ,  0.53952381,  0.23508264,  0.30214286,  0.9       ,\n",
       "        0.66355241,  0.1       ,  0.9       ,  0.4       ,  0.8       ,\n",
       "        0.        ,  1.        ,  0.9       ,  1.        ,  0.        ,\n",
       "        0.        ,  0.        ,  0.9       ,  1.        ,  0.1       ,\n",
       "        0.25335942,  0.4       ,  0.8       ,  0.2       ,  0.29166667,\n",
       "        0.        ,  0.        ,  0.9       ,  1.        ,  0.4       ,\n",
       "        0.4       ,  1.        ,  0.8       ,  0.4       ,  0.29964258,\n",
       "        0.9       ,  0.9       ,  0.1       ,  0.23508264,  1.        ,\n",
       "        0.8       ,  0.        ,  0.6       ,  0.67085165,  0.        ,\n",
       "        1.        ,  0.1       ,  0.23508264])"
      ]
     },
     "execution_count": 1077,
     "metadata": {},
     "output_type": "execute_result"
    }
   ],
   "source": [
    "#Tells us the probablity of a Reddit will be correctly identified in the class its assigned\n",
    "clf_y_score = clf.predict_proba(X_test)[:, 1] #[:,1] is formatting the output\n",
    "clf_y_score"
   ]
  },
  {
   "cell_type": "code",
   "execution_count": 1078,
   "metadata": {},
   "outputs": [
    {
     "name": "stdout",
     "output_type": "stream",
     "text": [
      "0.904654777487\n"
     ]
    }
   ],
   "source": [
    "print(roc_auc_score(y_test, clf_y_score))\n",
    "#looks just at the rate of true positives"
   ]
  },
  {
   "cell_type": "code",
   "execution_count": 1079,
   "metadata": {},
   "outputs": [
    {
     "data": {
      "image/png": "[encoded data removed]",
      "text/plain": [
       "<matplotlib.figure.Figure at 0x1a1a552198>"
      ]
     },
     "metadata": {},
     "output_type": "display_data"
    }
   ],
   "source": [
    "# visualization of area under the curve (blue line).  Shows the 90% coverage\n",
    "clf_FPR = dict()\n",
    "clf_TPR = dict()\n",
    "clf_ROC_AUC = dict()\n",
    "\n",
    "clf_FPR[1], clf_TPR[1], _ = roc_curve(y_test, clf_y_score)\n",
    "clf_ROC_AUC[1] = auc(clf_FPR[1], clf_TPR[1])\n",
    "\n",
    "plt.figure(figsize=[7,5])\n",
    "plt.plot(clf_FPR[1], clf_TPR[1], label='ROC curve (area = %0.3f)' % clf_ROC_AUC[1], linewidth=3)\n",
    "plt.plot([0, 1], [0, 1], 'k--', linewidth=3)\n",
    "plt.xlim([0.0, 1])\n",
    "plt.ylim([0.0, 1])\n",
    "plt.xlabel('False Positive Rate', fontsize=18)\n",
    "plt.ylabel('True Positive Rate', fontsize=18)\n",
    "plt.title('Random Forest Classifier ROC Curve', fontsize=18)\n",
    "plt.legend(loc=\"lower right\")\n",
    "plt.show()"
   ]
  },
  {
   "cell_type": "code",
   "execution_count": 1081,
   "metadata": {},
   "outputs": [
    {
     "name": "stdout",
     "output_type": "stream",
     "text": [
      "                    importance\n",
      "askreddit             0.017220\n",
      "worldnews             0.015030\n",
      "aww                   0.014883\n",
      "chibears              0.013142\n",
      "pics                  0.013014\n",
      "whatcouldgowrong      0.011818\n",
      "fireemblemheroes      0.011143\n",
      "cattaps               0.010746\n",
      "whitepeopletwitter    0.009202\n",
      "shittylifeprotips     0.008800\n"
     ]
    },
    {
     "data": {
      "text/plain": [
       "importance    0.124997\n",
       "dtype: float64"
      ]
     },
     "execution_count": 1081,
     "metadata": {},
     "output_type": "execute_result"
    }
   ],
   "source": [
    "#determine most important features/words in our model\n",
    "clf_feature_importances = pd.DataFrame(clf.feature_importances_,\n",
    "                                   index = X.columns,\n",
    "                                    columns=['importance']).sort_values('importance',\n",
    "                                    ascending=False)\n",
    "print(clf_feature_importances.head(10))\n",
    "clf_feature_importances.head(10).sum()"
   ]
  },
  {
   "cell_type": "markdown",
   "metadata": {},
   "source": [
    "# Creating a RandomForest with Subreddit, and \"Cat\" and \"Dog\" variables"
   ]
  },
  {
   "cell_type": "code",
   "execution_count": null,
   "metadata": {
    "collapsed": true
   },
   "outputs": [],
   "source": [
    "# Here I'm basically rerunning all of the same code, but first adding 2 extra features/series\n",
    "# 'Dog' = whether or not do is in the title and 'cat'...same thing, but with cat"
   ]
  },
  {
   "cell_type": "code",
   "execution_count": 1082,
   "metadata": {
    "collapsed": true
   },
   "outputs": [],
   "source": [
    "#creates the cat binary series\n",
    "cat_list= []\n",
    "word = 'cat'\n",
    "for row in r_posts.Title:  \n",
    "    if word.lower() in row:\n",
    "        cat_list.append(1)\n",
    "    else:\n",
    "        cat_list.append(0)"
   ]
  },
  {
   "cell_type": "code",
   "execution_count": 1083,
   "metadata": {},
   "outputs": [
    {
     "data": {
      "text/plain": [
       "0    1258\n",
       "1      17\n",
       "Name: cat, dtype: int64"
      ]
     },
     "execution_count": 1083,
     "metadata": {},
     "output_type": "execute_result"
    }
   ],
   "source": [
    "# Turn cat list into catafram and count_values to make sure it looks ok\n",
    "r_posts['cat'] = pd.DataFrame(cat_list)\n",
    "r_posts['cat'].value_counts()"
   ]
  },
  {
   "cell_type": "code",
   "execution_count": 1084,
   "metadata": {
    "collapsed": true
   },
   "outputs": [],
   "source": [
    "#creates the dog binary series\n",
    "dog_list= []\n",
    "word = 'dog'\n",
    "for row in r_posts.Title:  \n",
    "    if word.lower() in row:\n",
    "        dog_list.append(1)\n",
    "    else:\n",
    "        dog_list.append(0)"
   ]
  },
  {
   "cell_type": "code",
   "execution_count": 1085,
   "metadata": {},
   "outputs": [
    {
     "data": {
      "text/plain": [
       "0    1238\n",
       "1      37\n",
       "Name: dog, dtype: int64"
      ]
     },
     "execution_count": 1085,
     "metadata": {},
     "output_type": "execute_result"
    }
   ],
   "source": [
    "# Turn dog list into catafram and count_values to make sure it looks ok\n",
    "r_posts['dog'] = pd.DataFrame(dog_list)\n",
    "r_posts['dog'].value_counts()"
   ]
  },
  {
   "cell_type": "code",
   "execution_count": 1086,
   "metadata": {
    "collapsed": true
   },
   "outputs": [],
   "source": [
    "y = r_posts['high_low']\n",
    "X = r_posts['subreddit']\n",
    "\n",
    "cvec = CountVectorizer(stop_words = 'english') \n",
    "\n",
    "X  = pd.DataFrame(cvec.fit_transform(X).todense(),\n",
    "             columns=cvec.get_feature_names())"
   ]
  },
  {
   "cell_type": "code",
   "execution_count": 1087,
   "metadata": {
    "collapsed": true
   },
   "outputs": [],
   "source": [
    "p = X\n",
    "#this is a weird thing I'm trying so that later on in the section \n",
    "#where I add title vectors, I can easily a it to X\n",
    "#seem to have worked"
   ]
  },
  {
   "cell_type": "code",
   "execution_count": 1088,
   "metadata": {
    "collapsed": true
   },
   "outputs": [],
   "source": [
    "# appends X variable with the new cat and dog binary columns\n",
    "X['cat'] = r_posts['cat']\n",
    "X['dog'] = r_posts['dog']\n",
    "# after this I rereun all the same code from the previous model"
   ]
  },
  {
   "cell_type": "code",
   "execution_count": 1089,
   "metadata": {
    "collapsed": true
   },
   "outputs": [],
   "source": [
    "X_train, X_test, y_train, y_test = train_test_split(X, y, test_size = 0.3)"
   ]
  },
  {
   "cell_type": "code",
   "execution_count": 1090,
   "metadata": {},
   "outputs": [
    {
     "data": {
      "text/plain": [
       "RandomForestClassifier(bootstrap=True, class_weight=None, criterion='gini',\n",
       "            max_depth=None, max_features='auto', max_leaf_nodes=None,\n",
       "            min_impurity_decrease=0.0, min_impurity_split=None,\n",
       "            min_samples_leaf=1, min_samples_split=2,\n",
       "            min_weight_fraction_leaf=0.0, n_estimators=10, n_jobs=2,\n",
       "            oob_score=False, random_state=0, verbose=0, warm_start=False)"
      ]
     },
     "execution_count": 1090,
     "metadata": {},
     "output_type": "execute_result"
    }
   ],
   "source": [
    "clf = RandomForestClassifier(n_jobs=2, random_state=0)\n",
    "clf.fit(X_train, y_train)"
   ]
  },
  {
   "cell_type": "code",
   "execution_count": 1091,
   "metadata": {},
   "outputs": [
    {
     "data": {
      "text/plain": [
       "0.89798206278026904"
      ]
     },
     "execution_count": 1091,
     "metadata": {},
     "output_type": "execute_result"
    }
   ],
   "source": [
    "clf.score(X_train, y_train)"
   ]
  },
  {
   "cell_type": "code",
   "execution_count": 1092,
   "metadata": {},
   "outputs": [
    {
     "data": {
      "text/plain": [
       "0.80678851174934729"
      ]
     },
     "execution_count": 1092,
     "metadata": {},
     "output_type": "execute_result"
    }
   ],
   "source": [
    "clf.score(X_test, y_test)"
   ]
  },
  {
   "cell_type": "code",
   "execution_count": 1093,
   "metadata": {},
   "outputs": [
    {
     "data": {
      "text/plain": [
       "array([1, 1, 0, 0, 0, 0, 1, 1, 1, 0, 1, 1, 0, 0, 1, 1, 0, 1, 1, 1, 1, 0, 0,\n",
       "       0, 1, 1, 0, 0, 1, 1, 1, 0, 0, 0, 0, 1, 0, 1, 0, 0, 1, 1, 1, 0, 1, 1,\n",
       "       0, 0, 1, 1, 1, 0, 1, 0, 0, 0, 1, 0, 0, 1, 0, 1, 0, 1, 0, 0, 0, 1, 0,\n",
       "       0, 0, 1, 0, 1, 1, 0, 1, 1, 1, 0, 0, 0, 0, 1, 1, 0, 1, 0, 1, 0, 1, 0,\n",
       "       0, 0, 0, 1, 1, 0, 0, 0, 0, 1, 1, 0, 1, 1, 0, 0, 1, 0, 1, 0, 1, 1, 0,\n",
       "       1, 0, 1, 0, 1, 0, 0, 1, 0, 1, 1, 0, 1, 0, 1, 1, 1, 1, 0, 0, 0, 1, 0,\n",
       "       1, 1, 0, 0, 1, 0, 1, 1, 1, 0, 1, 0, 0, 0, 1, 0, 0, 0, 0, 0, 0, 0, 0,\n",
       "       0, 0, 0, 0, 0, 0, 1, 1, 0, 0, 0, 0, 0, 0, 1, 0, 1, 0, 0, 0, 1, 0, 0,\n",
       "       0, 1, 1, 0, 1, 0, 1, 0, 0, 1, 1, 1, 0, 1, 1, 1, 1, 0, 1, 0, 0, 0, 1,\n",
       "       0, 0, 1, 0, 0, 1, 1, 1, 0, 0, 1, 0, 1, 0, 1, 1, 1, 0, 1, 0, 1, 1, 0,\n",
       "       1, 0, 0, 1, 1, 1, 1, 1, 1, 0, 0, 1, 0, 1, 0, 1, 0, 1, 1, 0, 1, 1, 0,\n",
       "       1, 1, 1, 0, 0, 0, 0, 0, 1, 0, 1, 0, 0, 1, 0, 0, 1, 0, 0, 1, 0, 1, 0,\n",
       "       1, 1, 1, 0, 0, 1, 1, 1, 0, 0, 0, 0, 0, 0, 1, 1, 0, 0, 0, 0, 0, 0, 0,\n",
       "       1, 1, 0, 1, 0, 1, 0, 1, 0, 0, 0, 0, 1, 0, 1, 0, 1, 1, 1, 0, 1, 1, 0,\n",
       "       0, 0, 0, 0, 0, 1, 0, 1, 1, 0, 1, 1, 0, 0, 1, 1, 1, 1, 0, 1, 0, 0, 0,\n",
       "       1, 0, 0, 0, 1, 1, 0, 1, 1, 0, 0, 1, 1, 0, 1, 1, 0, 1, 1, 0, 0, 0, 1,\n",
       "       1, 0, 0, 0, 0, 0, 1, 0, 1, 0, 0, 1, 0, 1, 1])"
      ]
     },
     "execution_count": 1093,
     "metadata": {},
     "output_type": "execute_result"
    }
   ],
   "source": [
    "predictions = clf.predict(X_test)  # we need to get our models predictions based on the x_test data\n",
    "predictions"
   ]
  },
  {
   "cell_type": "code",
   "execution_count": 1094,
   "metadata": {},
   "outputs": [
    {
     "data": {
      "text/plain": [
       "383"
      ]
     },
     "execution_count": 1094,
     "metadata": {},
     "output_type": "execute_result"
    }
   ],
   "source": [
    "len(predictions)"
   ]
  },
  {
   "cell_type": "code",
   "execution_count": 1095,
   "metadata": {
    "collapsed": true
   },
   "outputs": [],
   "source": [
    "conmat = pd.DataFrame(confusion_matrix(y_test, predictions), \n",
    "                                              columns=['predicted_High(1)', 'predicted_low(0)'], index=['is_High(1)', 'is_Low(0)'])"
   ]
  },
  {
   "cell_type": "code",
   "execution_count": 1096,
   "metadata": {},
   "outputs": [
    {
     "data": {
      "text/html": [
       "<div>\n",
       "<style>\n",
       "    .dataframe thead tr:only-child th {\n",
       "        text-align: right;\n",
       "    }\n",
       "\n",
       "    .dataframe thead th {\n",
       "        text-align: left;\n",
       "    }\n",
       "\n",
       "    .dataframe tbody tr th {\n",
       "        vertical-align: top;\n",
       "    }\n",
       "</style>\n",
       "<table border=\"1\" class=\"dataframe\">\n",
       "  <thead>\n",
       "    <tr style=\"text-align: right;\">\n",
       "      <th></th>\n",
       "      <th>predicted_High(1)</th>\n",
       "      <th>predicted_low(0)</th>\n",
       "    </tr>\n",
       "  </thead>\n",
       "  <tbody>\n",
       "    <tr>\n",
       "      <th>is_High(1)</th>\n",
       "      <td>161</td>\n",
       "      <td>28</td>\n",
       "    </tr>\n",
       "    <tr>\n",
       "      <th>is_Low(0)</th>\n",
       "      <td>46</td>\n",
       "      <td>148</td>\n",
       "    </tr>\n",
       "  </tbody>\n",
       "</table>\n",
       "</div>"
      ],
      "text/plain": [
       "            predicted_High(1)  predicted_low(0)\n",
       "is_High(1)                161                28\n",
       "is_Low(0)                  46               148"
      ]
     },
     "execution_count": 1096,
     "metadata": {},
     "output_type": "execute_result"
    }
   ],
   "source": [
    "conmat"
   ]
  },
  {
   "cell_type": "code",
   "execution_count": 1097,
   "metadata": {},
   "outputs": [
    {
     "name": "stdout",
     "output_type": "stream",
     "text": [
      "\n",
      "Classification Report:\n",
      "              precision    recall  f1-score   support\n",
      "\n",
      "          0       0.78      0.85      0.81       189\n",
      "          1       0.84      0.76      0.80       194\n",
      "\n",
      "avg / total       0.81      0.81      0.81       383\n",
      "\n"
     ]
    }
   ],
   "source": [
    "print(\"\\nClassification Report:\\n\",classification_report(y_test, predictions))\n",
    "# recall is sensetivity"
   ]
  },
  {
   "cell_type": "code",
   "execution_count": 1098,
   "metadata": {
    "collapsed": true
   },
   "outputs": [
    {
     "data": {
      "text/plain": [
       "array([ 0.82857143,  0.67857143,  0.        ,  0.31286176,  0.38666667,\n",
       "        0.3452381 ,  1.        ,  0.65      ,  0.73571429,  0.        ,\n",
       "        0.86666667,  1.        ,  0.        ,  0.        ,  0.52186647,\n",
       "        0.86666667,  0.3452381 ,  0.5952381 ,  1.        ,  0.86666667,\n",
       "        1.        ,  0.36727328,  0.        ,  0.1       ,  0.71115152,\n",
       "        1.        ,  0.        ,  0.1       ,  1.        ,  0.82857143,\n",
       "        0.96666667,  0.24166667,  0.0952381 ,  0.46404762,  0.        ,\n",
       "        1.        ,  0.        ,  1.        ,  0.3452381 ,  0.        ,\n",
       "        1.        ,  1.        ,  0.67142857,  0.16666667,  0.52186647,\n",
       "        1.        ,  0.23188845,  0.        ,  0.673557  ,  0.95      ,\n",
       "        0.63260989,  0.24166667,  0.8       ,  0.07857143,  0.        ,\n",
       "        0.        ,  1.        ,  0.        ,  0.3452381 ,  0.9       ,\n",
       "        0.3452381 ,  0.82857143,  0.        ,  1.        ,  0.        ,\n",
       "        0.3452381 ,  0.0952381 ,  1.        ,  0.3452381 ,  0.34486597,\n",
       "        0.3452381 ,  0.60166667,  0.1       ,  0.82857143,  0.9       ,\n",
       "        0.        ,  1.        ,  0.71115152,  0.5779021 ,  0.1452381 ,\n",
       "        0.28840299,  0.34486597,  0.        ,  0.673557  ,  0.86666667,\n",
       "        0.        ,  1.        ,  0.        ,  0.9       ,  0.35119048,\n",
       "        0.5779021 ,  0.1       ,  0.        ,  0.        ,  0.3452381 ,\n",
       "        0.9       ,  0.60166667,  0.05      ,  0.36727328,  0.11666667,\n",
       "        0.        ,  0.71115152,  0.85      ,  0.1       ,  0.71666667,\n",
       "        0.63260989,  0.        ,  0.09595238,  1.        ,  0.23188845,\n",
       "        0.71666667,  0.        ,  1.        ,  0.8       ,  0.31286176,\n",
       "        1.        ,  0.3452381 ,  0.6952381 ,  0.31286176,  1.        ,\n",
       "        0.12857143,  0.34486597,  1.        ,  0.        ,  0.92857143,\n",
       "        0.60166667,  0.36727328,  0.58220779,  0.0952381 ,  0.77622482,\n",
       "        0.71666667,  0.52186647,  0.72857143,  0.36727328,  0.1       ,\n",
       "        0.48333333,  0.66666667,  0.36727328,  0.82857143,  1.        ,\n",
       "        0.06666667,  0.        ,  1.        ,  0.        ,  0.71666667,\n",
       "        0.9       ,  1.        ,  0.23188845,  0.75      ,  0.16666667,\n",
       "        0.39035714,  0.3452381 ,  1.        ,  0.        ,  0.        ,\n",
       "        0.        ,  0.        ,  0.        ,  0.2       ,  0.31286176,\n",
       "        0.07857143,  0.        ,  0.        ,  0.        ,  0.05      ,\n",
       "        0.        ,  0.34486597,  1.        ,  0.95      ,  0.3452381 ,\n",
       "        0.28840299,  0.22857143,  0.3452381 ,  0.        ,  0.42255411,\n",
       "        0.72857143,  0.09595238,  1.        ,  0.        ,  0.38666667,\n",
       "        0.31286176,  1.        ,  0.36727328,  0.        ,  0.46404762,\n",
       "        0.76666667,  0.9       ,  0.34486597,  1.        ,  0.12857143,\n",
       "        1.        ,  0.3452381 ,  0.        ,  1.        ,  0.51666667,\n",
       "        0.52186647,  0.3452381 ,  1.        ,  1.        ,  1.        ,\n",
       "        0.673557  ,  0.3452381 ,  0.8       ,  0.45      ,  0.23188845,\n",
       "        0.31286176,  0.52186647,  0.23188845,  0.3452381 ,  0.9       ,\n",
       "        0.3452381 ,  0.0952381 ,  0.96666667,  0.67142857,  1.        ,\n",
       "        0.31286176,  0.46404762,  0.63260989,  0.3452381 ,  0.52186647,\n",
       "        0.23188845,  0.673557  ,  1.        ,  1.        ,  0.45      ,\n",
       "        0.6952381 ,  0.46611111,  0.52186647,  0.66666667,  0.09595238,\n",
       "        1.        ,  0.28840299,  0.        ,  1.        ,  1.        ,\n",
       "        1.        ,  0.71666667,  1.        ,  1.        ,  0.1452381 ,\n",
       "        0.31286176,  1.        ,  0.11666667,  0.7452381 ,  0.28840299,\n",
       "        1.        ,  0.        ,  0.66666667,  0.54027778,  0.        ,\n",
       "        1.        ,  1.        ,  0.02857143,  0.73571429,  1.        ,\n",
       "        0.6952381 ,  0.28840299,  0.        ,  0.        ,  0.1       ,\n",
       "        0.45      ,  0.55      ,  0.        ,  0.51666667,  0.36727328,\n",
       "        0.3452381 ,  1.        ,  0.        ,  0.3452381 ,  1.        ,\n",
       "        0.07857143,  0.        ,  1.        ,  0.        ,  0.72857143,\n",
       "        0.28840299,  1.        ,  1.        ,  1.        ,  0.        ,\n",
       "        0.09595238,  0.673557  ,  0.58724026,  0.52186647,  0.        ,\n",
       "        0.        ,  0.2       ,  0.25      ,  0.        ,  0.3452381 ,\n",
       "        0.5452381 ,  0.67142857,  0.3452381 ,  0.31286176,  0.36727328,\n",
       "        0.09595238,  0.31286176,  0.        ,  0.31286176,  0.73571429,\n",
       "        0.52186647,  0.45      ,  1.        ,  0.05      ,  1.        ,\n",
       "        0.        ,  0.76666667,  0.36727328,  0.23188845,  0.25      ,\n",
       "        0.        ,  0.673557  ,  0.2952381 ,  0.71666667,  0.25      ,\n",
       "        1.        ,  0.58724026,  1.        ,  0.1952381 ,  0.92857143,\n",
       "        0.67857143,  0.36727328,  0.        ,  0.3452381 ,  0.        ,\n",
       "        0.        ,  0.05      ,  0.9       ,  0.1       ,  0.9       ,\n",
       "        0.52186647,  0.        ,  1.        ,  0.9       ,  0.09595238,\n",
       "        0.3452381 ,  1.        ,  0.9       ,  1.        ,  0.65      ,\n",
       "        0.36727328,  1.        ,  0.39035714,  0.34486597,  0.3452381 ,\n",
       "        0.86666667,  0.        ,  0.        ,  0.        ,  1.        ,\n",
       "        0.9       ,  0.35119048,  1.        ,  1.        ,  0.        ,\n",
       "        0.02857143,  1.        ,  0.67142857,  0.3452381 ,  1.        ,\n",
       "        1.        ,  0.06666667,  0.9       ,  0.71115152,  0.        ,\n",
       "        0.02857143,  0.25      ,  1.        ,  1.        ,  0.        ,\n",
       "        0.1       ,  0.3452381 ,  0.3452381 ,  0.        ,  0.52186647,\n",
       "        0.2       ,  1.        ,  0.45      ,  0.31286176,  1.        ,\n",
       "        0.09595238,  0.72857143,  1.        ])"
      ]
     },
     "execution_count": 1098,
     "metadata": {},
     "output_type": "execute_result"
    }
   ],
   "source": [
    "#Tells us the probablity of a Reddit will be correctly identified in the class its assigned\n",
    "clf_y_score = clf.predict_proba(X_test)[:, 1] #[:,1] is formatting the output\n",
    "clf_y_score"
   ]
  },
  {
   "cell_type": "code",
   "execution_count": 1099,
   "metadata": {},
   "outputs": [
    {
     "name": "stdout",
     "output_type": "stream",
     "text": [
      "0.892352588229\n"
     ]
    }
   ],
   "source": [
    "print(roc_auc_score(y_test, clf_y_score))\n",
    "#looks just at the rate of true positives"
   ]
  },
  {
   "cell_type": "code",
   "execution_count": 1100,
   "metadata": {
    "scrolled": true
   },
   "outputs": [
    {
     "data": {
      "image/png": "[encoded data removed]",
      "text/plain": [
       "<matplotlib.figure.Figure at 0x1a1a466358>"
      ]
     },
     "metadata": {},
     "output_type": "display_data"
    }
   ],
   "source": [
    "clf_FPR = dict()\n",
    "clf_TPR = dict()\n",
    "clf_ROC_AUC = dict()\n",
    "\n",
    "clf_FPR[1], clf_TPR[1], _ = roc_curve(y_test, clf_y_score)\n",
    "clf_ROC_AUC[1] = auc(clf_FPR[1], clf_TPR[1])\n",
    "\n",
    "plt.figure(figsize=[7,5])\n",
    "plt.plot(clf_FPR[1], clf_TPR[1], label='ROC curve (area = %0.3f)' % clf_ROC_AUC[1], linewidth=3)\n",
    "plt.plot([0, 1], [0, 1], 'k--', linewidth=3)\n",
    "plt.xlim([0.0, 1])\n",
    "plt.ylim([0.0, 1])\n",
    "plt.xlabel('False Positive Rate', fontsize=18)\n",
    "plt.ylabel('True Positive Rate', fontsize=18)\n",
    "plt.title('Random Forest Classifier ROC Curve', fontsize=18)\n",
    "plt.legend(loc=\"lower right\")\n",
    "plt.show()"
   ]
  },
  {
   "cell_type": "code",
   "execution_count": 1101,
   "metadata": {
    "scrolled": true
   },
   "outputs": [
    {
     "name": "stdout",
     "output_type": "stream",
     "text": [
      "                  importance\n",
      "dog                 0.018013\n",
      "worldnews           0.015411\n",
      "chibears            0.014538\n",
      "whatcouldgowrong    0.014301\n",
      "pics                0.013407\n",
      "askreddit           0.012679\n",
      "documentaries       0.012491\n",
      "blunderyears        0.011063\n",
      "creepy              0.010721\n",
      "socialism           0.010370\n"
     ]
    },
    {
     "data": {
      "text/plain": [
       "importance    0.132994\n",
       "dtype: float64"
      ]
     },
     "execution_count": 1101,
     "metadata": {},
     "output_type": "execute_result"
    }
   ],
   "source": [
    "#determine most important features/words in our model\n",
    "clf_feature_importances = pd.DataFrame(clf.feature_importances_,\n",
    "                                   index = X.columns,\n",
    "                                    columns=['importance']).sort_values('importance',\n",
    "                                    ascending=False)\n",
    "print(clf_feature_importances.head(10))\n",
    "clf_feature_importances.head(10).sum()"
   ]
  },
  {
   "cell_type": "markdown",
   "metadata": {},
   "source": [
    "# Creating a RandomForest with Subreddit, \"Cat\"/\"Dog\" and Title CountVectorized Features"
   ]
  },
  {
   "cell_type": "code",
   "execution_count": 1102,
   "metadata": {
    "collapsed": true
   },
   "outputs": [],
   "source": [
    "from sklearn.feature_extraction.text import CountVectorizer, HashingVectorizer"
   ]
  },
  {
   "cell_type": "code",
   "execution_count": 1103,
   "metadata": {
    "collapsed": true
   },
   "outputs": [],
   "source": [
    "# Count Vectorize with 'title'\n",
    "y = r_posts['high_low']\n",
    "X = r_posts['Title']\n",
    "\n",
    "cvec = CountVectorizer(stop_words = 'english') \n",
    "\n",
    "X  = pd.DataFrame(cvec.fit_transform(X).todense(),\n",
    "             columns=cvec.get_feature_names())"
   ]
  },
  {
   "cell_type": "code",
   "execution_count": 1104,
   "metadata": {
    "collapsed": true
   },
   "outputs": [],
   "source": [
    "# append previously vectorized subreddits (this is what I described as weird earlier)\n",
    "X = pd.concat([X, p,], axis=1)"
   ]
  },
  {
   "cell_type": "code",
   "execution_count": 1105,
   "metadata": {
    "collapsed": true
   },
   "outputs": [],
   "source": [
    "X = pd.concat([X, r_posts['cat']], axis=1) # add cat to X"
   ]
  },
  {
   "cell_type": "code",
   "execution_count": 1106,
   "metadata": {
    "collapsed": true
   },
   "outputs": [],
   "source": [
    "X = pd.concat([X, r_posts['dog']], axis=1) # add dog to x\n",
    "# then rerun all RFC code used previously after this cell"
   ]
  },
  {
   "cell_type": "code",
   "execution_count": 1107,
   "metadata": {
    "collapsed": true
   },
   "outputs": [],
   "source": [
    "X_train, X_test, y_train, y_test = train_test_split(X, y, test_size = 0.3)"
   ]
  },
  {
   "cell_type": "code",
   "execution_count": 1108,
   "metadata": {},
   "outputs": [
    {
     "name": "stdout",
     "output_type": "stream",
     "text": [
      "  (0, 269)\t1\n",
      "  (0, 913)\t1\n",
      "  (1, 434)\t1\n",
      "  (1, 730)\t1\n",
      "  (2, 72)\t1\n",
      "  (2, 283)\t1\n",
      "  (2, 595)\t1\n",
      "  (2, 1170)\t1\n",
      "  (2, 1527)\t1\n",
      "  (2, 1532)\t1\n",
      "  (2, 1533)\t1\n",
      "  (3, 292)\t1\n",
      "  (3, 297)\t1\n",
      "  (3, 1257)\t1\n",
      "  (4, 36)\t1\n",
      "  (4, 49)\t1\n",
      "  (4, 74)\t1\n",
      "  (4, 79)\t1\n",
      "  (4, 132)\t1\n",
      "  (4, 256)\t1\n",
      "  (4, 293)\t1\n",
      "  (4, 462)\t1\n",
      "  (4, 577)\t1\n",
      "  (4, 658)\t1\n",
      "  (4, 808)\t1\n",
      "  :\t:\n",
      "  (1270, 434)\t1\n",
      "  (1270, 784)\t1\n",
      "  (1270, 1435)\t1\n",
      "  (1271, 77)\t1\n",
      "  (1271, 189)\t1\n",
      "  (1271, 1024)\t1\n",
      "  (1271, 1181)\t1\n",
      "  (1271, 1198)\t1\n",
      "  (1271, 1337)\t1\n",
      "  (1271, 1467)\t1\n",
      "  (1272, 121)\t1\n",
      "  (1272, 780)\t1\n",
      "  (1272, 983)\t1\n",
      "  (1272, 1394)\t1\n",
      "  (1272, 1454)\t1\n",
      "  (1273, 1067)\t1\n",
      "  (1273, 1435)\t1\n",
      "  (1273, 1544)\t1\n",
      "  (1273, 1551)\t1\n",
      "  (1273, 1588)\t1\n",
      "  (1274, 811)\t1\n",
      "  (1274, 879)\t1\n",
      "  (1274, 1326)\t1\n",
      "  (1274, 1344)\t1\n",
      "  (1274, 1476)\t1\n"
     ]
    }
   ],
   "source": [
    "print(cvecdata)"
   ]
  },
  {
   "cell_type": "code",
   "execution_count": 1109,
   "metadata": {},
   "outputs": [
    {
     "data": {
      "text/plain": [
       "RandomForestClassifier(bootstrap=True, class_weight=None, criterion='gini',\n",
       "            max_depth=None, max_features='auto', max_leaf_nodes=None,\n",
       "            min_impurity_decrease=0.0, min_impurity_split=None,\n",
       "            min_samples_leaf=1, min_samples_split=2,\n",
       "            min_weight_fraction_leaf=0.0, n_estimators=10, n_jobs=2,\n",
       "            oob_score=False, random_state=0, verbose=0, warm_start=False)"
      ]
     },
     "execution_count": 1109,
     "metadata": {},
     "output_type": "execute_result"
    }
   ],
   "source": [
    "clf = RandomForestClassifier(n_jobs=2, random_state=0)\n",
    "clf.fit(X_train, y_train)"
   ]
  },
  {
   "cell_type": "code",
   "execution_count": 1110,
   "metadata": {},
   "outputs": [
    {
     "data": {
      "text/plain": [
       "0.99439461883408076"
      ]
     },
     "execution_count": 1110,
     "metadata": {},
     "output_type": "execute_result"
    }
   ],
   "source": [
    "clf.score(X_train, y_train)"
   ]
  },
  {
   "cell_type": "code",
   "execution_count": 1111,
   "metadata": {},
   "outputs": [
    {
     "data": {
      "text/plain": [
       "0.90600522193211486"
      ]
     },
     "execution_count": 1111,
     "metadata": {},
     "output_type": "execute_result"
    }
   ],
   "source": [
    "clf.score(X_test, y_test)"
   ]
  },
  {
   "cell_type": "code",
   "execution_count": 1112,
   "metadata": {},
   "outputs": [
    {
     "data": {
      "text/plain": [
       "array([0, 0, 1, 1, 0, 1, 0, 1, 1, 1, 0, 0, 1, 1, 1, 1, 0, 1, 0, 1, 0, 1, 0,\n",
       "       1, 1, 1, 1, 1, 0, 1, 0, 0, 1, 0, 0, 1, 0, 1, 0, 0, 1, 1, 0, 1, 1, 0,\n",
       "       0, 1, 1, 0, 1, 1, 0, 0, 1, 0, 1, 0, 0, 1, 0, 1, 1, 1, 0, 1, 0, 0, 0,\n",
       "       1, 1, 1, 1, 0, 0, 0, 0, 1, 0, 0, 1, 0, 0, 1, 0, 1, 1, 0, 0, 0, 0, 0,\n",
       "       0, 0, 0, 0, 1, 0, 0, 0, 1, 1, 0, 0, 0, 1, 0, 1, 1, 0, 0, 0, 1, 0, 0,\n",
       "       0, 0, 0, 0, 1, 0, 1, 1, 0, 0, 0, 0, 0, 1, 0, 1, 0, 1, 1, 0, 0, 1, 1,\n",
       "       0, 0, 0, 1, 1, 0, 1, 0, 0, 1, 1, 1, 0, 0, 0, 0, 0, 1, 1, 1, 1, 0, 0,\n",
       "       1, 0, 0, 1, 0, 0, 1, 0, 1, 0, 1, 1, 1, 1, 0, 0, 1, 0, 0, 0, 0, 0, 1,\n",
       "       0, 1, 0, 1, 0, 1, 0, 1, 0, 1, 1, 0, 0, 0, 1, 1, 0, 1, 0, 1, 1, 1, 0,\n",
       "       1, 0, 0, 1, 0, 1, 0, 0, 0, 0, 1, 1, 1, 1, 0, 0, 0, 0, 1, 1, 0, 1, 1,\n",
       "       0, 0, 0, 1, 0, 1, 0, 0, 1, 0, 1, 1, 0, 1, 1, 0, 1, 0, 0, 0, 1, 0, 1,\n",
       "       1, 0, 0, 0, 1, 0, 0, 1, 0, 0, 0, 0, 1, 0, 1, 0, 0, 1, 0, 0, 1, 1, 1,\n",
       "       1, 1, 0, 1, 0, 0, 0, 1, 1, 0, 0, 1, 0, 1, 0, 0, 1, 1, 0, 1, 1, 0, 1,\n",
       "       1, 0, 0, 1, 0, 1, 0, 0, 1, 0, 0, 0, 1, 1, 0, 0, 1, 0, 0, 0, 1, 0, 1,\n",
       "       1, 0, 1, 1, 0, 0, 0, 1, 1, 1, 1, 0, 1, 1, 1, 0, 0, 0, 1, 1, 0, 1, 1,\n",
       "       1, 1, 0, 1, 0, 1, 0, 0, 0, 0, 0, 0, 0, 1, 0, 0, 0, 0, 0, 0, 1, 1, 1,\n",
       "       0, 0, 0, 1, 1, 1, 0, 0, 0, 1, 0, 1, 1, 1, 0])"
      ]
     },
     "execution_count": 1112,
     "metadata": {},
     "output_type": "execute_result"
    }
   ],
   "source": [
    "predictions = clf.predict(X_test)  # we need to get our models predictions based on the x_test data\n",
    "predictions"
   ]
  },
  {
   "cell_type": "code",
   "execution_count": 1113,
   "metadata": {},
   "outputs": [
    {
     "data": {
      "text/plain": [
       "383"
      ]
     },
     "execution_count": 1113,
     "metadata": {},
     "output_type": "execute_result"
    }
   ],
   "source": [
    "len(predictions)"
   ]
  },
  {
   "cell_type": "code",
   "execution_count": 1114,
   "metadata": {
    "collapsed": true
   },
   "outputs": [],
   "source": [
    "conmat = pd.DataFrame(confusion_matrix(y_test, predictions), \n",
    "                                              columns=['predicted_High(1)', 'predicted_low(0)'], index=['is_High(1)', 'is_Low(0)'])"
   ]
  },
  {
   "cell_type": "code",
   "execution_count": 1115,
   "metadata": {},
   "outputs": [
    {
     "data": {
      "text/html": [
       "<div>\n",
       "<style>\n",
       "    .dataframe thead tr:only-child th {\n",
       "        text-align: right;\n",
       "    }\n",
       "\n",
       "    .dataframe thead th {\n",
       "        text-align: left;\n",
       "    }\n",
       "\n",
       "    .dataframe tbody tr th {\n",
       "        vertical-align: top;\n",
       "    }\n",
       "</style>\n",
       "<table border=\"1\" class=\"dataframe\">\n",
       "  <thead>\n",
       "    <tr style=\"text-align: right;\">\n",
       "      <th></th>\n",
       "      <th>predicted_High(1)</th>\n",
       "      <th>predicted_low(0)</th>\n",
       "    </tr>\n",
       "  </thead>\n",
       "  <tbody>\n",
       "    <tr>\n",
       "      <th>is_High(1)</th>\n",
       "      <td>185</td>\n",
       "      <td>12</td>\n",
       "    </tr>\n",
       "    <tr>\n",
       "      <th>is_Low(0)</th>\n",
       "      <td>24</td>\n",
       "      <td>162</td>\n",
       "    </tr>\n",
       "  </tbody>\n",
       "</table>\n",
       "</div>"
      ],
      "text/plain": [
       "            predicted_High(1)  predicted_low(0)\n",
       "is_High(1)                185                12\n",
       "is_Low(0)                  24               162"
      ]
     },
     "execution_count": 1115,
     "metadata": {},
     "output_type": "execute_result"
    }
   ],
   "source": [
    "conmat"
   ]
  },
  {
   "cell_type": "code",
   "execution_count": 1116,
   "metadata": {},
   "outputs": [
    {
     "name": "stdout",
     "output_type": "stream",
     "text": [
      "\n",
      "Classification Report:\n",
      "              precision    recall  f1-score   support\n",
      "\n",
      "          0       0.89      0.94      0.91       197\n",
      "          1       0.93      0.87      0.90       186\n",
      "\n",
      "avg / total       0.91      0.91      0.91       383\n",
      "\n"
     ]
    }
   ],
   "source": [
    "print(\"\\nClassification Report:\\n\",classification_report(y_test, predictions))\n",
    "# recall is sensetivity\n",
    "# Model evaluation lecture: https://git.generalassemb.ly/DSI-EAST-2/4.04-model-evaluation-i/blob/master/4.04-model-evaluation-i.pdf"
   ]
  },
  {
   "cell_type": "code",
   "execution_count": 1117,
   "metadata": {
    "collapsed": true
   },
   "outputs": [
    {
     "data": {
      "text/plain": [
       "array([ 0. ,  0. ,  1. ,  0.9,  0.4,  1. ,  0. ,  1. ,  1. ,  0.8,  0. ,\n",
       "        0.1,  1. ,  1. ,  0.7,  0.9,  0.1,  0.6,  0. ,  1. ,  0.4,  0.9,\n",
       "        0.1,  1. ,  0.9,  0.9,  1. ,  0.9,  0. ,  1. ,  0.4,  0. ,  0.9,\n",
       "        0.1,  0.2,  0.9,  0.5,  0.8,  0. ,  0. ,  1. ,  1. ,  0.2,  0.8,\n",
       "        0.9,  0.1,  0.2,  0.7,  0.9,  0.1,  1. ,  0.9,  0. ,  0. ,  1. ,\n",
       "        0.5,  0.6,  0.3,  0.1,  1. ,  0.1,  0.9,  0.9,  0.9,  0.1,  1. ,\n",
       "        0. ,  0. ,  0.1,  0.9,  1. ,  0.9,  0.7,  0. ,  0.4,  0.3,  0.3,\n",
       "        0.7,  0.4,  0. ,  1. ,  0. ,  0.1,  0.8,  0. ,  1. ,  0.6,  0.1,\n",
       "        0.1,  0. ,  0. ,  0.1,  0. ,  0.4,  0.1,  0.4,  0.9,  0.1,  0.1,\n",
       "        0. ,  1. ,  1. ,  0.1,  0.1,  0.1,  1. ,  0. ,  0.6,  1. ,  0. ,\n",
       "        0.1,  0.5,  0.9,  0. ,  0. ,  0. ,  0.3,  0.4,  0.5,  0.6,  0. ,\n",
       "        0.9,  0.9,  0. ,  0.4,  0. ,  0. ,  0. ,  1. ,  0. ,  1. ,  0. ,\n",
       "        1. ,  0.8,  0. ,  0. ,  0.6,  0.7,  0. ,  0.1,  0. ,  0.8,  1. ,\n",
       "        0.1,  1. ,  0.4,  0.1,  0.6,  1. ,  0.9,  0. ,  0.4,  0.2,  0.4,\n",
       "        0.2,  1. ,  0.9,  1. ,  0.7,  0. ,  0. ,  0.8,  0. ,  0. ,  1. ,\n",
       "        0. ,  0. ,  0.8,  0.5,  1. ,  0. ,  1. ,  0.9,  1. ,  0.9,  0. ,\n",
       "        0.5,  0.9,  0. ,  0. ,  0. ,  0.3,  0.3,  0.6,  0.3,  0.8,  0. ,\n",
       "        0.8,  0.5,  1. ,  0. ,  0.9,  0.2,  1. ,  1. ,  0.1,  0. ,  0.1,\n",
       "        0.6,  0.8,  0.3,  0.6,  0. ,  0.8,  0.8,  1. ,  0.3,  1. ,  0. ,\n",
       "        0.2,  0.8,  0.4,  1. ,  0.2,  0. ,  0.3,  0. ,  1. ,  0.6,  1. ,\n",
       "        1. ,  0. ,  0.1,  0.1,  0. ,  0.6,  0.8,  0. ,  0.9,  0.9,  0.1,\n",
       "        0. ,  0.3,  0.6,  0.1,  0.6,  0.4,  0. ,  1. ,  0. ,  0.8,  1. ,\n",
       "        0.1,  1. ,  1. ,  0. ,  0.9,  0. ,  0.1,  0.1,  1. ,  0.4,  0.9,\n",
       "        0.6,  0. ,  0. ,  0. ,  0.9,  0.1,  0.1,  0.9,  0.2,  0.1,  0. ,\n",
       "        0. ,  1. ,  0. ,  1. ,  0. ,  0.1,  1. ,  0. ,  0.4,  1. ,  1. ,\n",
       "        1. ,  1. ,  1. ,  0.2,  0.9,  0.4,  0.1,  0.1,  0.9,  0.9,  0.3,\n",
       "        0.4,  1. ,  0.1,  0.9,  0. ,  0.3,  1. ,  1. ,  0.3,  1. ,  1. ,\n",
       "        0.4,  0.9,  0.9,  0.1,  0.3,  1. ,  0.4,  1. ,  0. ,  0. ,  1. ,\n",
       "        0.1,  0.1,  0. ,  0.6,  0.7,  0. ,  0.1,  1. ,  0.1,  0.1,  0.1,\n",
       "        1. ,  0. ,  0.8,  1. ,  0.1,  0.6,  0.9,  0. ,  0. ,  0.5,  1. ,\n",
       "        0.8,  1. ,  1. ,  0. ,  0.9,  0.9,  0.9,  0.1,  0.1,  0. ,  0.8,\n",
       "        0.6,  0. ,  0.9,  0.7,  0.9,  0.6,  0.3,  1. ,  0.1,  0.9,  0.2,\n",
       "        0.3,  0.2,  0. ,  0. ,  0. ,  0.2,  0.6,  0. ,  0. ,  0.4,  0.5,\n",
       "        0. ,  0.1,  0.8,  0.9,  1. ,  0.2,  0. ,  0.1,  1. ,  1. ,  0.7,\n",
       "        0. ,  0.4,  0.1,  1. ,  0. ,  1. ,  0.6,  1. ,  0.3])"
      ]
     },
     "execution_count": 1117,
     "metadata": {},
     "output_type": "execute_result"
    }
   ],
   "source": [
    "#Tells us the probablity of a Reddit will be correctly identified in the class its assigned\n",
    "clf_y_score = clf.predict_proba(X_test)[:, 1] #[:,1] is formatting the output\n",
    "clf_y_score"
   ]
  },
  {
   "cell_type": "code",
   "execution_count": 1118,
   "metadata": {
    "scrolled": true
   },
   "outputs": [
    {
     "name": "stdout",
     "output_type": "stream",
     "text": [
      "0.977157360406\n"
     ]
    }
   ],
   "source": [
    "print(roc_auc_score(y_test, clf_y_score))\n",
    "#looks just at the rate of true positives"
   ]
  },
  {
   "cell_type": "code",
   "execution_count": 1119,
   "metadata": {
    "scrolled": false
   },
   "outputs": [
    {
     "data": {
      "image/png": "[encoded data removed]",
      "text/plain": [
       "<matplotlib.figure.Figure at 0x1a1b03e6a0>"
      ]
     },
     "metadata": {},
     "output_type": "display_data"
    }
   ],
   "source": [
    "clf_FPR = dict()\n",
    "clf_TPR = dict()\n",
    "clf_ROC_AUC = dict()\n",
    "\n",
    "clf_FPR[1], clf_TPR[1], _ = roc_curve(y_test, clf_y_score)\n",
    "clf_ROC_AUC[1] = auc(clf_FPR[1], clf_TPR[1])\n",
    "\n",
    "plt.figure(figsize=[7,5])\n",
    "plt.plot(clf_FPR[1], clf_TPR[1], label='ROC curve (area = %0.3f)' % clf_ROC_AUC[1], linewidth=3)\n",
    "plt.plot([0, 1], [0, 1], 'k--', linewidth=3)\n",
    "plt.xlim([0.0, 1])\n",
    "plt.ylim([0.0, 1])\n",
    "plt.xlabel('False Positive Rate', fontsize=18)\n",
    "plt.ylabel('True Positive Rate', fontsize=18)\n",
    "plt.title('Random Forest Classifier ROC Curve', fontsize=18)\n",
    "plt.legend(loc=\"lower right\")\n",
    "plt.show()"
   ]
  },
  {
   "cell_type": "code",
   "execution_count": 1120,
   "metadata": {},
   "outputs": [
    {
     "name": "stdout",
     "output_type": "stream",
     "text": [
      "              importance\n",
      "ha              0.014649\n",
      "play            0.010390\n",
      "best            0.008754\n",
      "aww             0.007986\n",
      "prequelmemes    0.007920\n",
      "worldnews       0.007379\n",
      "game            0.006472\n",
      "pics            0.006114\n",
      "right           0.006076\n",
      "tree            0.006027\n"
     ]
    },
    {
     "data": {
      "text/plain": [
       "importance    0.081767\n",
       "dtype: float64"
      ]
     },
     "execution_count": 1120,
     "metadata": {},
     "output_type": "execute_result"
    }
   ],
   "source": [
    "#determine most important features/words in our model\n",
    "clf_feature_importances = pd.DataFrame(clf.feature_importances_,\n",
    "                                   index = X.columns,\n",
    "                                    columns=['importance']).sort_values('importance',\n",
    "                                    ascending=False)\n",
    "print(clf_feature_importances.head(10))\n",
    "clf_feature_importances.head(10).sum()"
   ]
  },
  {
   "cell_type": "markdown",
   "metadata": {},
   "source": [
    "## Repeat the model-building process with a non-tree-based method."
   ]
  },
  {
   "cell_type": "code",
   "execution_count": 1150,
   "metadata": {
    "collapsed": true,
    "focus": false,
    "id": "588f9845-6143-4bcc-bfd1-85d45b79303d"
   },
   "outputs": [],
   "source": [
    "# I'll use the KNN classifier model.  \n",
    "# I'm going to want to reimport the X variable to look at the; \n",
    "# reddit, the dog/cat and then title\n",
    "# I run this 3 times \n",
    "# First with the subreddit \n",
    "# Second with subreddit and dog/cat variables\n",
    "# Third with the subreddit, dog/cat variables and title vectorized"
   ]
  },
  {
   "cell_type": "code",
   "execution_count": 1212,
   "metadata": {
    "collapsed": true,
    "focus": false,
    "id": "c20d2498-151c-44c3-a453-3a333c79a0ac"
   },
   "outputs": [],
   "source": [
    "#reset x and y to high/low and subreddit\n",
    "y = r_posts['high_low']\n",
    "X = r_posts['subreddit']\n",
    "\n",
    "cvec = CountVectorizer(stop_words = 'english') \n",
    "\n",
    "X  = pd.DataFrame(cvec.fit_transform(X).todense(),\n",
    "             columns=cvec.get_feature_names())"
   ]
  },
  {
   "cell_type": "code",
   "execution_count": 1213,
   "metadata": {},
   "outputs": [
    {
     "data": {
      "text/plain": [
       "array([[-0.04856429, -0.04856429, -0.05609927, ..., -0.04856429,\n",
       "        -0.04856429, -0.04856429],\n",
       "       [-0.04856429, -0.04856429, -0.05609927, ..., -0.04856429,\n",
       "        -0.04856429, -0.04856429],\n",
       "       [-0.04856429, -0.04856429, -0.05609927, ..., -0.04856429,\n",
       "        -0.04856429, -0.04856429],\n",
       "       ..., \n",
       "       [-0.04856429, -0.04856429, -0.05609927, ..., -0.04856429,\n",
       "        -0.04856429, -0.04856429],\n",
       "       [-0.04856429, -0.04856429, -0.05609927, ..., -0.04856429,\n",
       "        -0.04856429, -0.04856429],\n",
       "       [-0.04856429, -0.04856429, -0.05609927, ..., -0.04856429,\n",
       "        -0.04856429, -0.04856429]])"
      ]
     },
     "execution_count": 1213,
     "metadata": {},
     "output_type": "execute_result"
    }
   ],
   "source": [
    "# Put it into  standard scalar\n",
    "from sklearn.preprocessing import StandardScaler\n",
    "\n",
    "ss = StandardScaler()\n",
    "Xs = ss.fit_transform(X)\n",
    "type(Xs)\n",
    "Xs"
   ]
  },
  {
   "cell_type": "code",
   "execution_count": 1214,
   "metadata": {
    "collapsed": true
   },
   "outputs": [],
   "source": [
    "X_train, X_test, y_train, y_test = train_test_split(X, y, test_size = 0.3)"
   ]
  },
  {
   "cell_type": "code",
   "execution_count": 1215,
   "metadata": {
    "collapsed": true
   },
   "outputs": [],
   "source": [
    "from sklearn.model_selection import cross_val_score\n",
    "from sklearn.neighbors import KNeighborsClassifier"
   ]
  },
  {
   "cell_type": "code",
   "execution_count": 1216,
   "metadata": {},
   "outputs": [
    {
     "data": {
      "text/plain": [
       "(0.73094932347726971, 0.038365219285894911)"
      ]
     },
     "execution_count": 1216,
     "metadata": {},
     "output_type": "execute_result"
    }
   ],
   "source": [
    "knn3 = KNeighborsClassifier( n_neighbors=2,  \n",
    "                           weights='uniform')\n",
    "scores = cross_val_score(knn3,  X_train, y_train,  cv=5)\n",
    "np.mean(scores), np.std(scores)"
   ]
  },
  {
   "cell_type": "code",
   "execution_count": 1217,
   "metadata": {},
   "outputs": [
    {
     "data": {
      "text/plain": [
       "(0.631784005468216, 0.040320764652695566)"
      ]
     },
     "execution_count": 1217,
     "metadata": {},
     "output_type": "execute_result"
    }
   ],
   "source": [
    "knn3 = KNeighborsClassifier( n_neighbors=2,  \n",
    "                           weights='uniform')\n",
    "scores = cross_val_score(knn3,  X_test, y_test,  cv=5)\n",
    "np.mean(scores), np.std(scores)"
   ]
  },
  {
   "cell_type": "code",
   "execution_count": 1218,
   "metadata": {},
   "outputs": [
    {
     "data": {
      "text/plain": [
       "(0.79367016019295078, 0.029460782799662178)"
      ]
     },
     "execution_count": 1218,
     "metadata": {},
     "output_type": "execute_result"
    }
   ],
   "source": [
    "knn1 = KNeighborsClassifier( n_neighbors=1,  \n",
    "                           weights='uniform')\n",
    "scores = cross_val_score(knn1,  X_train, y_train,  cv=5)\n",
    "np.mean(scores), np.std(scores)"
   ]
  },
  {
   "cell_type": "code",
   "execution_count": 1219,
   "metadata": {},
   "outputs": [
    {
     "data": {
      "text/plain": [
       "(0.65252904989747107, 0.05259423802535422)"
      ]
     },
     "execution_count": 1219,
     "metadata": {},
     "output_type": "execute_result"
    }
   ],
   "source": [
    "knn1 = KNeighborsClassifier( n_neighbors=1,  \n",
    "                           weights='uniform')\n",
    "scores = cross_val_score(knn1,  X_test, y_test,  cv=5)\n",
    "np.mean(scores), np.std(scores)"
   ]
  },
  {
   "cell_type": "code",
   "execution_count": 1220,
   "metadata": {
    "collapsed": true
   },
   "outputs": [],
   "source": [
    "# Reexamine KNN with dog and cat"
   ]
  },
  {
   "cell_type": "code",
   "execution_count": 1221,
   "metadata": {
    "collapsed": true,
    "focus": false,
    "id": "c20d2498-151c-44c3-a453-3a333c79a0ac"
   },
   "outputs": [],
   "source": [
    "#reset x and y to high/low and subreddit\n",
    "y = r_posts['high_low']\n",
    "X = r_posts['subreddit']\n",
    "\n",
    "cvec = CountVectorizer(stop_words = 'english') \n",
    "\n",
    "X  = pd.DataFrame(cvec.fit_transform(X).todense(),\n",
    "             columns=cvec.get_feature_names())"
   ]
  },
  {
   "cell_type": "code",
   "execution_count": 1222,
   "metadata": {
    "collapsed": true
   },
   "outputs": [],
   "source": [
    "X['cat'] = r_posts['cat']\n",
    "X['dog'] = r_posts['dog']"
   ]
  },
  {
   "cell_type": "code",
   "execution_count": 1223,
   "metadata": {},
   "outputs": [
    {
     "data": {
      "text/plain": [
       "array([[-0.04856429, -0.04856429, -0.05609927, ..., -0.04856429,\n",
       "        -0.11624764, -0.17287832],\n",
       "       [-0.04856429, -0.04856429, -0.05609927, ..., -0.04856429,\n",
       "        -0.11624764,  5.78441522],\n",
       "       [-0.04856429, -0.04856429, -0.05609927, ..., -0.04856429,\n",
       "        -0.11624764, -0.17287832],\n",
       "       ..., \n",
       "       [-0.04856429, -0.04856429, -0.05609927, ..., -0.04856429,\n",
       "        -0.11624764, -0.17287832],\n",
       "       [-0.04856429, -0.04856429, -0.05609927, ..., -0.04856429,\n",
       "        -0.11624764, -0.17287832],\n",
       "       [-0.04856429, -0.04856429, -0.05609927, ..., -0.04856429,\n",
       "        -0.11624764, -0.17287832]])"
      ]
     },
     "execution_count": 1223,
     "metadata": {},
     "output_type": "execute_result"
    }
   ],
   "source": [
    "# Put it into  standard scalar\n",
    "from sklearn.preprocessing import StandardScaler\n",
    "\n",
    "ss = StandardScaler()\n",
    "Xs = ss.fit_transform(X)\n",
    "type(Xs)\n",
    "Xs"
   ]
  },
  {
   "cell_type": "code",
   "execution_count": 1224,
   "metadata": {
    "collapsed": true
   },
   "outputs": [],
   "source": [
    "X_train, X_test, y_train, y_test = train_test_split(X, y, test_size = 0.3)"
   ]
  },
  {
   "cell_type": "code",
   "execution_count": 1225,
   "metadata": {
    "collapsed": true
   },
   "outputs": [],
   "source": [
    "from sklearn.model_selection import cross_val_score\n",
    "from sklearn.neighbors import KNeighborsClassifier"
   ]
  },
  {
   "cell_type": "code",
   "execution_count": 1226,
   "metadata": {},
   "outputs": [
    {
     "data": {
      "text/plain": [
       "(0.72982537333493624, 0.0094608982820743211)"
      ]
     },
     "execution_count": 1226,
     "metadata": {},
     "output_type": "execute_result"
    }
   ],
   "source": [
    "knn2 = KNeighborsClassifier( n_neighbors=2,  \n",
    "                           weights='uniform')\n",
    "scores = cross_val_score(knn3,  X_train, y_train,  cv=5)\n",
    "np.mean(scores), np.std(scores)"
   ]
  },
  {
   "cell_type": "code",
   "execution_count": 1227,
   "metadata": {},
   "outputs": [
    {
     "data": {
      "text/plain": [
       "(0.62392344497607655, 0.027814468139990861)"
      ]
     },
     "execution_count": 1227,
     "metadata": {},
     "output_type": "execute_result"
    }
   ],
   "source": [
    "knn2 = KNeighborsClassifier( n_neighbors=2,  \n",
    "                           weights='uniform')\n",
    "scores = cross_val_score(knn3,  X_test, y_test,  cv=5)\n",
    "np.mean(scores), np.std(scores)"
   ]
  },
  {
   "cell_type": "code",
   "execution_count": 1228,
   "metadata": {},
   "outputs": [
    {
     "data": {
      "text/plain": [
       "(0.80157320393348852, 0.019529859283354187)"
      ]
     },
     "execution_count": 1228,
     "metadata": {},
     "output_type": "execute_result"
    }
   ],
   "source": [
    "knn1 = KNeighborsClassifier( n_neighbors=1,  \n",
    "                           weights='uniform')\n",
    "scores = cross_val_score(knn1,  X_train, y_train,  cv=5)\n",
    "np.mean(scores), np.std(scores)"
   ]
  },
  {
   "cell_type": "code",
   "execution_count": 1229,
   "metadata": {},
   "outputs": [
    {
     "data": {
      "text/plain": [
       "(0.70495557074504445, 0.044047945724523314)"
      ]
     },
     "execution_count": 1229,
     "metadata": {},
     "output_type": "execute_result"
    }
   ],
   "source": [
    "knn1 = KNeighborsClassifier( n_neighbors=1,  \n",
    "                           weights='uniform')\n",
    "scores = cross_val_score(knn1,  X_test, y_test,  cv=5)\n",
    "np.mean(scores), np.std(scores)"
   ]
  },
  {
   "cell_type": "markdown",
   "metadata": {},
   "source": [
    "DOGS CATS AND VECTORIZED TITLES"
   ]
  },
  {
   "cell_type": "code",
   "execution_count": 1230,
   "metadata": {
    "collapsed": true,
    "focus": false,
    "id": "c20d2498-151c-44c3-a453-3a333c79a0ac"
   },
   "outputs": [],
   "source": [
    "#reset x and y to high/low and subreddit\n",
    "y = r_posts['high_low']\n",
    "X = r_posts['subreddit']\n",
    "\n",
    "cvec = CountVectorizer(stop_words = 'english') \n",
    "\n",
    "X  = pd.DataFrame(cvec.fit_transform(X).todense(),\n",
    "             columns=cvec.get_feature_names())"
   ]
  },
  {
   "cell_type": "code",
   "execution_count": 1231,
   "metadata": {
    "collapsed": true
   },
   "outputs": [],
   "source": [
    "X = pd.concat([X, p,], axis=1)"
   ]
  },
  {
   "cell_type": "code",
   "execution_count": 1232,
   "metadata": {
    "collapsed": true
   },
   "outputs": [],
   "source": [
    "X['cat'] = r_posts['cat']\n",
    "X['dog'] = r_posts['dog']"
   ]
  },
  {
   "cell_type": "code",
   "execution_count": 1233,
   "metadata": {
    "collapsed": true
   },
   "outputs": [],
   "source": [
    "X = pd.concat([X, p,], axis=1)"
   ]
  },
  {
   "cell_type": "code",
   "execution_count": 1234,
   "metadata": {},
   "outputs": [
    {
     "data": {
      "text/plain": [
       "array([[-0.04856429, -0.04856429, -0.05609927, ..., -0.04856429,\n",
       "        -0.11624764, -0.17287832],\n",
       "       [-0.04856429, -0.04856429, -0.05609927, ..., -0.04856429,\n",
       "        -0.11624764,  5.78441522],\n",
       "       [-0.04856429, -0.04856429, -0.05609927, ..., -0.04856429,\n",
       "        -0.11624764, -0.17287832],\n",
       "       ..., \n",
       "       [-0.04856429, -0.04856429, -0.05609927, ..., -0.04856429,\n",
       "        -0.11624764, -0.17287832],\n",
       "       [-0.04856429, -0.04856429, -0.05609927, ..., -0.04856429,\n",
       "        -0.11624764, -0.17287832],\n",
       "       [-0.04856429, -0.04856429, -0.05609927, ..., -0.04856429,\n",
       "        -0.11624764, -0.17287832]])"
      ]
     },
     "execution_count": 1234,
     "metadata": {},
     "output_type": "execute_result"
    }
   ],
   "source": [
    "# Put it into  standard scalar\n",
    "from sklearn.preprocessing import StandardScaler\n",
    "\n",
    "ss = StandardScaler()\n",
    "Xs = ss.fit_transform(X)\n",
    "type(Xs)\n",
    "Xs"
   ]
  },
  {
   "cell_type": "code",
   "execution_count": 1235,
   "metadata": {
    "collapsed": true
   },
   "outputs": [],
   "source": [
    "X_train, X_test, y_train, y_test = train_test_split(X, y, test_size = 0.3)"
   ]
  },
  {
   "cell_type": "code",
   "execution_count": 1236,
   "metadata": {
    "collapsed": true
   },
   "outputs": [],
   "source": [
    "from sklearn.model_selection import cross_val_score\n",
    "from sklearn.neighbors import KNeighborsClassifier"
   ]
  },
  {
   "cell_type": "code",
   "execution_count": 1240,
   "metadata": {},
   "outputs": [
    {
     "data": {
      "text/plain": [
       "(0.76570209026426472, 0.017051939590926251)"
      ]
     },
     "execution_count": 1240,
     "metadata": {},
     "output_type": "execute_result"
    }
   ],
   "source": [
    "knn5 = KNeighborsClassifier( n_neighbors=2,  \n",
    "                           weights='uniform')\n",
    "scores = cross_val_score(knn5,  X_train, y_train,  cv=5)\n",
    "np.mean(scores), np.std(scores)"
   ]
  },
  {
   "cell_type": "code",
   "execution_count": 1241,
   "metadata": {},
   "outputs": [
    {
     "data": {
      "text/plain": [
       "(0.62656203445677128, 0.054318981044033661)"
      ]
     },
     "execution_count": 1241,
     "metadata": {},
     "output_type": "execute_result"
    }
   ],
   "source": [
    "knn5 = KNeighborsClassifier( n_neighbors=2,  \n",
    "                           weights='uniform')\n",
    "scores = cross_val_score(knn5,  X_test, y_test,  cv=5)\n",
    "np.mean(scores), np.std(scores)"
   ]
  },
  {
   "cell_type": "code",
   "execution_count": 1242,
   "metadata": {
    "scrolled": true
   },
   "outputs": [
    {
     "data": {
      "text/plain": [
       "(0.80830456342979107, 0.027992081928105747)"
      ]
     },
     "execution_count": 1242,
     "metadata": {},
     "output_type": "execute_result"
    }
   ],
   "source": [
    "knn1 = KNeighborsClassifier( n_neighbors=1,  \n",
    "                           weights='uniform')\n",
    "scores = cross_val_score(knn1,  X_train, y_train,  cv=5)\n",
    "np.mean(scores), np.std(scores)"
   ]
  },
  {
   "cell_type": "code",
   "execution_count": 1243,
   "metadata": {},
   "outputs": [
    {
     "data": {
      "text/plain": [
       "(0.70729621255937047, 0.04124086886249647)"
      ]
     },
     "execution_count": 1243,
     "metadata": {},
     "output_type": "execute_result"
    }
   ],
   "source": [
    "knn1 = KNeighborsClassifier( n_neighbors=1,  \n",
    "                           weights='uniform')\n",
    "scores = cross_val_score(knn1,  X_test, y_test,  cv=5)\n",
    "np.mean(scores), np.std(scores)"
   ]
  },
  {
   "cell_type": "markdown",
   "metadata": {},
   "source": [
    "# Executive Summary\n",
    "---"
   ]
  },
  {
   "cell_type": "markdown",
   "metadata": {},
   "source": [
    "FiveThirtyEight would now like to conduct an analysis of Reddit.  Reddit is a social news aggregation, web content rating, and discussion website. Most will already be aware of the currently popularity and importance of Reddit. Reddit being the 6th ranked social media site and 36th ranked site globally. The site is primarily made up of user generated posts whose prominance is determined by recent comments and votes.  Given the importance of comments within Reddit, it is essential to understand and predict the factors that make for a popular reddit post. What characteristics of a post on Reddit are most predictive of the overall interaction on a thread (as measured by number of comments)?\n",
    "\n",
    "In order to assess this important question we at PanDuck Consulting have assessed a variety of models to detrimine the best approach to accuratly predicting the factors that lead to a popular post (defined as a post with greated than median number of comments).  Analysing the data of greatest importance on Reddit we have opted to use a classifier analysis looking at a wide variety of factors.  We opted to investigate the effect of sub-reddits on the populaity of a post.  We then updated our model to gauge the affect of adding several popular words to our model.  Finally, we analyzed the full text of each reddit post to determine the the importance of individual words in a post title and how it affected the predictive power of our model.  We ran these features through several models and tuned the features of each model.  \n",
    "\n",
    "Huzza! We found a model that accurately predicts the whether or not a post will be popular with over 90% accuracy on a consistent basis and approximately 97% rate of correctly predicting positive results. Our predictive features (subreddit, the words dog/cat, all title words) were highly effective in other models  as well.  Ultimately the most effective model selected in our analysis was RandomForestClassier. Our findings suggest that this is a highly effetive model which has the potential for further analysis both within the reddit sight.  We beleive this analysis can also be extended to other post base discussion and social media sites.  With the support of FiveThirtyEight we believe we can continue to refine our model further for even greated predictive power and to demonstrate that this model will perform well throughout social sites. \n"
   ]
  }
 ],
 "metadata": {
  "anaconda-cloud": {},
  "kernelspec": {
   "display_name": "Python [default]",
   "language": "python",
   "name": "python3"
  },
  "language_info": {
   "codemirror_mode": {
    "name": "ipython",
    "version": 3
   },
   "file_extension": ".py",
   "mimetype": "text/x-python",
   "name": "python",
   "nbconvert_exporter": "python",
   "pygments_lexer": "ipython3",
   "version": "3.6.3"
  },
  "varInspector": {
   "cols": {
    "lenName": 16,
    "lenType": 16,
    "lenVar": 40
   },
   "kernels_config": {
    "python": {
     "delete_cmd_postfix": "",
     "delete_cmd_prefix": "del ",
     "library": "var_list.py",
     "varRefreshCmd": "print(var_dic_list())"
    },
    "r": {
     "delete_cmd_postfix": ") ",
     "delete_cmd_prefix": "rm(",
     "library": "var_list.r",
     "varRefreshCmd": "cat(var_dic_list()) "
    }
   },
   "types_to_exclude": [
    "module",
    "function",
    "builtin_function_or_method",
    "instance",
    "_Feature"
   ],
   "window_display": false
  }
 },
 "nbformat": 4,
 "nbformat_minor": 1
}
